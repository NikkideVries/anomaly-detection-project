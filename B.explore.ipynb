{
 "cells": [
  {
   "cell_type": "markdown",
   "id": "a447427a-92f1-41a2-a969-ed71b5924251",
   "metadata": {},
   "source": [
    "# Project Request: "
   ]
  },
  {
   "cell_type": "markdown",
   "id": "52ff80ea-e03d-42a0-8587-012d1cd2e696",
   "metadata": {},
   "source": [
    "1. Which lesson appears to attract the most traffic consistently across cohorts (per program)?\n",
    "2. Is there a cohort that referred to a lesson significantly more than other cohorts seemed to gloss over?\n",
    "3. Are there students who, when active, hardly access the curriculum? If so, what information do you have about these students?\n",
    "4. Is there any suspicious activity, such as users/machines/etc accessing the curriculum who shouldn’t be? Does it appear that any web-scraping is happening? Are there any suspicious IP addresses?\n",
    "5. At some point in 2019, the ability for students and alumni to access both curriculums (web dev to ds, ds to web dev) should have been shut off. Do you see any evidence of that happening? Did it happen before?\n",
    "6. What topics are grads continuing to reference after graduation and into their jobs (for each program)?\n",
    "7. Which lessons are least accessed?\n",
    "8. Anything else I should be aware of?"
   ]
  },
  {
   "cell_type": "code",
   "execution_count": 1,
   "id": "5a906337-75ca-4a32-aa03-f253ebbf16ee",
   "metadata": {
    "tags": []
   },
   "outputs": [],
   "source": [
    "# imports: \n",
    "import pandas as pd \n",
    "import numpy as np\n",
    "import wrangle as wr\n",
    "\n",
    "# visualizations: \n",
    "import seaborn as sns\n",
    "import matplotlib.pyplot as plt\n",
    "\n",
    "# import \n",
    "import warnings\n",
    "warnings.filterwarnings(\"ignore\")"
   ]
  },
  {
   "cell_type": "markdown",
   "id": "7f63dcfc-e160-4c3f-afd1-67e3f6cd388b",
   "metadata": {},
   "source": [
    "# Explore:  "
   ]
  },
  {
   "cell_type": "code",
   "execution_count": 2,
   "id": "2fd3a0e0-66a8-4dec-9635-988c4c179c1e",
   "metadata": {
    "tags": []
   },
   "outputs": [],
   "source": [
    "# acquire and prepare the data: \n",
    "df = wr.prep_logs_plain()"
   ]
  },
  {
   "cell_type": "code",
   "execution_count": 3,
   "id": "0b8ddbda-7391-4e34-98f7-ab016f84a32f",
   "metadata": {
    "tags": []
   },
   "outputs": [
    {
     "data": {
      "text/html": [
       "<div>\n",
       "<style scoped>\n",
       "    .dataframe tbody tr th:only-of-type {\n",
       "        vertical-align: middle;\n",
       "    }\n",
       "\n",
       "    .dataframe tbody tr th {\n",
       "        vertical-align: top;\n",
       "    }\n",
       "\n",
       "    .dataframe thead th {\n",
       "        text-align: right;\n",
       "    }\n",
       "</style>\n",
       "<table border=\"1\" class=\"dataframe\">\n",
       "  <thead>\n",
       "    <tr style=\"text-align: right;\">\n",
       "      <th></th>\n",
       "      <th>name</th>\n",
       "      <th>start_date</th>\n",
       "      <th>end_date</th>\n",
       "      <th>program_id</th>\n",
       "      <th>path</th>\n",
       "      <th>user_id</th>\n",
       "      <th>cohort_id</th>\n",
       "      <th>ip</th>\n",
       "      <th>datetime</th>\n",
       "    </tr>\n",
       "  </thead>\n",
       "  <tbody>\n",
       "    <tr>\n",
       "      <th>0</th>\n",
       "      <td>Arches</td>\n",
       "      <td>2014-02-04</td>\n",
       "      <td>2014-04-22</td>\n",
       "      <td>1</td>\n",
       "      <td>javascript-i/arrays</td>\n",
       "      <td>11.0</td>\n",
       "      <td>1.0</td>\n",
       "      <td>97.105.19.61</td>\n",
       "      <td>2018-01-31 15:52:32</td>\n",
       "    </tr>\n",
       "    <tr>\n",
       "      <th>1</th>\n",
       "      <td>Arches</td>\n",
       "      <td>2014-02-04</td>\n",
       "      <td>2014-04-22</td>\n",
       "      <td>1</td>\n",
       "      <td>javascript-i</td>\n",
       "      <td>11.0</td>\n",
       "      <td>1.0</td>\n",
       "      <td>97.105.19.61</td>\n",
       "      <td>2018-01-31 15:52:29</td>\n",
       "    </tr>\n",
       "    <tr>\n",
       "      <th>2</th>\n",
       "      <td>Arches</td>\n",
       "      <td>2014-02-04</td>\n",
       "      <td>2014-04-22</td>\n",
       "      <td>1</td>\n",
       "      <td>javascript-i/arrays</td>\n",
       "      <td>11.0</td>\n",
       "      <td>1.0</td>\n",
       "      <td>97.105.19.61</td>\n",
       "      <td>2018-01-31 14:59:38</td>\n",
       "    </tr>\n",
       "    <tr>\n",
       "      <th>3</th>\n",
       "      <td>Arches</td>\n",
       "      <td>2014-02-04</td>\n",
       "      <td>2014-04-22</td>\n",
       "      <td>1</td>\n",
       "      <td>javascript-i</td>\n",
       "      <td>11.0</td>\n",
       "      <td>1.0</td>\n",
       "      <td>97.105.19.61</td>\n",
       "      <td>2018-01-31 14:32:22</td>\n",
       "    </tr>\n",
       "    <tr>\n",
       "      <th>4</th>\n",
       "      <td>Arches</td>\n",
       "      <td>2014-02-04</td>\n",
       "      <td>2014-04-22</td>\n",
       "      <td>1</td>\n",
       "      <td>javascript-i/arrays</td>\n",
       "      <td>11.0</td>\n",
       "      <td>1.0</td>\n",
       "      <td>97.105.19.61</td>\n",
       "      <td>2018-01-31 14:32:19</td>\n",
       "    </tr>\n",
       "  </tbody>\n",
       "</table>\n",
       "</div>"
      ],
      "text/plain": [
       "     name start_date   end_date  program_id                 path  user_id  \\\n",
       "0  Arches 2014-02-04 2014-04-22           1  javascript-i/arrays     11.0   \n",
       "1  Arches 2014-02-04 2014-04-22           1         javascript-i     11.0   \n",
       "2  Arches 2014-02-04 2014-04-22           1  javascript-i/arrays     11.0   \n",
       "3  Arches 2014-02-04 2014-04-22           1         javascript-i     11.0   \n",
       "4  Arches 2014-02-04 2014-04-22           1  javascript-i/arrays     11.0   \n",
       "\n",
       "   cohort_id            ip            datetime  \n",
       "0        1.0  97.105.19.61 2018-01-31 15:52:32  \n",
       "1        1.0  97.105.19.61 2018-01-31 15:52:29  \n",
       "2        1.0  97.105.19.61 2018-01-31 14:59:38  \n",
       "3        1.0  97.105.19.61 2018-01-31 14:32:22  \n",
       "4        1.0  97.105.19.61 2018-01-31 14:32:19  "
      ]
     },
     "execution_count": 3,
     "metadata": {},
     "output_type": "execute_result"
    }
   ],
   "source": [
    "# look at the data:\n",
    "df.head()"
   ]
  },
  {
   "cell_type": "markdown",
   "id": "04ef071b-805a-4870-b556-772a80453789",
   "metadata": {},
   "source": [
    "# Figure out what the data means: "
   ]
  },
  {
   "cell_type": "code",
   "execution_count": 4,
   "id": "c4daab4e-d817-41b4-84fd-afa3b7a5ddc9",
   "metadata": {
    "tags": []
   },
   "outputs": [
    {
     "data": {
      "text/html": [
       "<div>\n",
       "<style scoped>\n",
       "    .dataframe tbody tr th:only-of-type {\n",
       "        vertical-align: middle;\n",
       "    }\n",
       "\n",
       "    .dataframe tbody tr th {\n",
       "        vertical-align: top;\n",
       "    }\n",
       "\n",
       "    .dataframe thead th {\n",
       "        text-align: right;\n",
       "    }\n",
       "</style>\n",
       "<table border=\"1\" class=\"dataframe\">\n",
       "  <thead>\n",
       "    <tr style=\"text-align: right;\">\n",
       "      <th></th>\n",
       "      <th>name</th>\n",
       "      <th>cohort_id</th>\n",
       "    </tr>\n",
       "  </thead>\n",
       "  <tbody>\n",
       "    <tr>\n",
       "      <th>0</th>\n",
       "      <td>Arches</td>\n",
       "      <td>1.0</td>\n",
       "    </tr>\n",
       "    <tr>\n",
       "      <th>70</th>\n",
       "      <td>Glacier</td>\n",
       "      <td>7.0</td>\n",
       "    </tr>\n",
       "    <tr>\n",
       "      <th>80</th>\n",
       "      <td>Hampton</td>\n",
       "      <td>8.0</td>\n",
       "    </tr>\n",
       "    <tr>\n",
       "      <th>105</th>\n",
       "      <td>Kings</td>\n",
       "      <td>13.0</td>\n",
       "    </tr>\n",
       "    <tr>\n",
       "      <th>182</th>\n",
       "      <td>Lassen</td>\n",
       "      <td>14.0</td>\n",
       "    </tr>\n",
       "  </tbody>\n",
       "</table>\n",
       "</div>"
      ],
      "text/plain": [
       "        name  cohort_id\n",
       "0     Arches        1.0\n",
       "70   Glacier        7.0\n",
       "80   Hampton        8.0\n",
       "105    Kings       13.0\n",
       "182   Lassen       14.0"
      ]
     },
     "execution_count": 4,
     "metadata": {},
     "output_type": "execute_result"
    }
   ],
   "source": [
    "# what are the names: \n",
    "cohort_names = df[['name','cohort_id']].drop_duplicates()\n",
    "cohort_names.head()"
   ]
  },
  {
   "cell_type": "code",
   "execution_count": 5,
   "id": "7acb57c2-a295-49da-b8c8-96805b69572a",
   "metadata": {
    "tags": []
   },
   "outputs": [
    {
     "data": {
      "text/plain": [
       "(47, 2)"
      ]
     },
     "execution_count": 5,
     "metadata": {},
     "output_type": "execute_result"
    }
   ],
   "source": [
    "# how many cohorts are there?\n",
    "cohort_names.shape"
   ]
  },
  {
   "cell_type": "code",
   "execution_count": 6,
   "id": "88c4969f-9f5d-483b-8084-25708047566e",
   "metadata": {
    "tags": []
   },
   "outputs": [
    {
     "data": {
      "text/plain": [
       "name\n",
       "Andromeda     [19]\n",
       "Apex          [22]\n",
       "Apollo        [17]\n",
       "Arches        [11]\n",
       "Badlands      [11]\n",
       "Bash          [26]\n",
       "Bayes         [23]\n",
       "Betelgeuse    [19]\n",
       "Ceres         [21]\n",
       "Curie         [22]\n",
       "Darden        [26]\n",
       "Deimos        [23]\n",
       "Denali        [12]\n",
       "Easley        [26]\n",
       "Europa        [23]\n",
       "Everglades    [14]\n",
       "Florence      [24]\n",
       "Fortuna       [23]\n",
       "Franklin      [16]\n",
       "Ganymede      [21]\n",
       "Glacier       [17]\n",
       "Hampton       [19]\n",
       "Hyperion      [24]\n",
       "Ike           [16]\n",
       "Joshua        [16]\n",
       "Jupiter       [27]\n",
       "Kalypso       [26]\n",
       "Kings         [16]\n",
       "Lassen        [16]\n",
       "Luna          [26]\n",
       "Mammoth       [18]\n",
       "Marco         [25]\n",
       "Neptune       [24]\n",
       "Niagara       [19]\n",
       "Oberon        [24]\n",
       "Olympic       [15]\n",
       "Pinnacles     [16]\n",
       "Quincy        [15]\n",
       "Sequoia       [20]\n",
       "Staff          [0]\n",
       "Teddy         [18]\n",
       "Ulysses       [19]\n",
       "Voyageurs     [19]\n",
       "Wrangell      [18]\n",
       "Xanadu        [20]\n",
       "Yosemite      [21]\n",
       "Zion          [19]\n",
       "Name: cohort_duration, dtype: object"
      ]
     },
     "execution_count": 6,
     "metadata": {},
     "output_type": "execute_result"
    }
   ],
   "source": [
    "# How long does each cohort go? \n",
    "df['start_date'] = pd.to_datetime(df['start_date'])\n",
    "df['end_date'] = pd.to_datetime(df['end_date'])\n",
    "\n",
    "# calculate the duration of the cohort: \n",
    "df['cohort_duration'] = (df['end_date'] - df['start_date']).dt.days // 7\n",
    "\n",
    "# groupby: \n",
    "cohort_durations = df.groupby('name')['cohort_duration'].unique()\n",
    "cohort_durations"
   ]
  },
  {
   "cell_type": "code",
   "execution_count": 7,
   "id": "27378ced-b849-44a3-a797-72ab2258cf37",
   "metadata": {
    "tags": []
   },
   "outputs": [
    {
     "data": {
      "text/plain": [
       "2    713365\n",
       "3    103411\n",
       "1     30548\n",
       "4         5\n",
       "Name: program_id, dtype: int64"
      ]
     },
     "execution_count": 7,
     "metadata": {},
     "output_type": "execute_result"
    }
   ],
   "source": [
    "df.program_id.value_counts()"
   ]
  },
  {
   "cell_type": "code",
   "execution_count": 8,
   "id": "691789b3-40c1-43a2-bd71-fc44d0e9fc2e",
   "metadata": {
    "tags": []
   },
   "outputs": [],
   "source": [
    "program_1 = df[df.program_id == 1]"
   ]
  },
  {
   "cell_type": "code",
   "execution_count": 9,
   "id": "4a6c0726-390a-41ad-88e9-b380e8479dfa",
   "metadata": {
    "tags": []
   },
   "outputs": [
    {
     "data": {
      "text/plain": [
       "Lassen        9587\n",
       "Arches        8890\n",
       "Olympic       4954\n",
       "Kings         2845\n",
       "Hampton       1712\n",
       "Quincy        1237\n",
       "Glacier        598\n",
       "Joshua         302\n",
       "Ike            253\n",
       "Badlands        93\n",
       "Franklin        72\n",
       "Denali           4\n",
       "Everglades       1\n",
       "Name: name, dtype: int64"
      ]
     },
     "execution_count": 9,
     "metadata": {},
     "output_type": "execute_result"
    }
   ],
   "source": [
    "program_1.name.value_counts()"
   ]
  },
  {
   "cell_type": "code",
   "execution_count": 10,
   "id": "1f7188e3-a9ae-4d8b-b5fa-ab5aeff53311",
   "metadata": {
    "tags": []
   },
   "outputs": [],
   "source": [
    "program_2 = df[df.program_id == 2]"
   ]
  },
  {
   "cell_type": "code",
   "execution_count": 11,
   "id": "c2ed1062-eec6-4dd6-aca5-6afc16ee9871",
   "metadata": {
    "tags": []
   },
   "outputs": [
    {
     "data": {
      "text/plain": [
       "Staff         84031\n",
       "Ceres         40730\n",
       "Zion          38096\n",
       "Jupiter       37109\n",
       "Fortuna       36902\n",
       "Voyageurs     35636\n",
       "Ganymede      33844\n",
       "Apex          33568\n",
       "Deimos        32888\n",
       "Teddy         30926\n",
       "Hyperion      29855\n",
       "Betelgeuse    29356\n",
       "Ulysses       28534\n",
       "Europa        28033\n",
       "Xanadu        27749\n",
       "Wrangell      25586\n",
       "Andromeda     25359\n",
       "Kalypso       23691\n",
       "Yosemite      20743\n",
       "Bash          17713\n",
       "Luna          16623\n",
       "Marco         16397\n",
       "Sequoia        7444\n",
       "Neptune        7276\n",
       "Pinnacles      2158\n",
       "Oberon         1672\n",
       "Niagara         755\n",
       "Mammoth         691\n",
       "Name: name, dtype: int64"
      ]
     },
     "execution_count": 11,
     "metadata": {},
     "output_type": "execute_result"
    }
   ],
   "source": [
    "# how many cohorts are there\n",
    "program_2.name.value_counts()"
   ]
  },
  {
   "cell_type": "code",
   "execution_count": 12,
   "id": "b3630d6a-d137-4c40-a853-519cfebf0dc1",
   "metadata": {
    "tags": []
   },
   "outputs": [],
   "source": [
    "program_3 = df[df.program_id == 3]"
   ]
  },
  {
   "cell_type": "code",
   "execution_count": 13,
   "id": "ac8fcbbf-a498-437a-9ab1-a8797459a156",
   "metadata": {
    "tags": []
   },
   "outputs": [
    {
     "data": {
      "text/plain": [
       "Darden      32015\n",
       "Bayes       26538\n",
       "Curie       21581\n",
       "Easley      14715\n",
       "Florence     8562\n",
       "Name: name, dtype: int64"
      ]
     },
     "execution_count": 13,
     "metadata": {},
     "output_type": "execute_result"
    }
   ],
   "source": [
    "program_3.name.value_counts()"
   ]
  },
  {
   "cell_type": "code",
   "execution_count": 14,
   "id": "e0e6d2c9-0289-41ab-bce0-0cfdaff850ec",
   "metadata": {
    "tags": []
   },
   "outputs": [],
   "source": [
    "program_4 = df[df.program_id == 4]"
   ]
  },
  {
   "cell_type": "code",
   "execution_count": 88,
   "id": "f24be74c-f9d7-4918-94ac-f0a42c0038eb",
   "metadata": {
    "tags": []
   },
   "outputs": [
    {
     "data": {
      "text/plain": [
       "Apollo    5\n",
       "Name: name, dtype: int64"
      ]
     },
     "execution_count": 88,
     "metadata": {},
     "output_type": "execute_result"
    }
   ],
   "source": [
    "program_4.name.value_counts()"
   ]
  },
  {
   "cell_type": "code",
   "execution_count": 15,
   "id": "38850a0f-f5a3-490f-80e6-838dd5f0aa53",
   "metadata": {
    "tags": []
   },
   "outputs": [
    {
     "data": {
      "text/html": [
       "<div>\n",
       "<style scoped>\n",
       "    .dataframe tbody tr th:only-of-type {\n",
       "        vertical-align: middle;\n",
       "    }\n",
       "\n",
       "    .dataframe tbody tr th {\n",
       "        vertical-align: top;\n",
       "    }\n",
       "\n",
       "    .dataframe thead th {\n",
       "        text-align: right;\n",
       "    }\n",
       "</style>\n",
       "<table border=\"1\" class=\"dataframe\">\n",
       "  <thead>\n",
       "    <tr style=\"text-align: right;\">\n",
       "      <th></th>\n",
       "      <th>name</th>\n",
       "      <th>user_count</th>\n",
       "    </tr>\n",
       "  </thead>\n",
       "  <tbody>\n",
       "    <tr>\n",
       "      <th>0</th>\n",
       "      <td>Andromeda</td>\n",
       "      <td>28</td>\n",
       "    </tr>\n",
       "    <tr>\n",
       "      <th>1</th>\n",
       "      <td>Apex</td>\n",
       "      <td>24</td>\n",
       "    </tr>\n",
       "    <tr>\n",
       "      <th>2</th>\n",
       "      <td>Apollo</td>\n",
       "      <td>1</td>\n",
       "    </tr>\n",
       "    <tr>\n",
       "      <th>3</th>\n",
       "      <td>Arches</td>\n",
       "      <td>18</td>\n",
       "    </tr>\n",
       "    <tr>\n",
       "      <th>4</th>\n",
       "      <td>Badlands</td>\n",
       "      <td>3</td>\n",
       "    </tr>\n",
       "    <tr>\n",
       "      <th>5</th>\n",
       "      <td>Bash</td>\n",
       "      <td>23</td>\n",
       "    </tr>\n",
       "    <tr>\n",
       "      <th>6</th>\n",
       "      <td>Bayes</td>\n",
       "      <td>23</td>\n",
       "    </tr>\n",
       "    <tr>\n",
       "      <th>7</th>\n",
       "      <td>Betelgeuse</td>\n",
       "      <td>22</td>\n",
       "    </tr>\n",
       "    <tr>\n",
       "      <th>8</th>\n",
       "      <td>Ceres</td>\n",
       "      <td>29</td>\n",
       "    </tr>\n",
       "    <tr>\n",
       "      <th>9</th>\n",
       "      <td>Curie</td>\n",
       "      <td>21</td>\n",
       "    </tr>\n",
       "    <tr>\n",
       "      <th>10</th>\n",
       "      <td>Darden</td>\n",
       "      <td>29</td>\n",
       "    </tr>\n",
       "    <tr>\n",
       "      <th>11</th>\n",
       "      <td>Deimos</td>\n",
       "      <td>27</td>\n",
       "    </tr>\n",
       "    <tr>\n",
       "      <th>12</th>\n",
       "      <td>Denali</td>\n",
       "      <td>1</td>\n",
       "    </tr>\n",
       "    <tr>\n",
       "      <th>13</th>\n",
       "      <td>Easley</td>\n",
       "      <td>17</td>\n",
       "    </tr>\n",
       "    <tr>\n",
       "      <th>14</th>\n",
       "      <td>Europa</td>\n",
       "      <td>28</td>\n",
       "    </tr>\n",
       "    <tr>\n",
       "      <th>15</th>\n",
       "      <td>Everglades</td>\n",
       "      <td>1</td>\n",
       "    </tr>\n",
       "    <tr>\n",
       "      <th>16</th>\n",
       "      <td>Florence</td>\n",
       "      <td>21</td>\n",
       "    </tr>\n",
       "    <tr>\n",
       "      <th>17</th>\n",
       "      <td>Fortuna</td>\n",
       "      <td>29</td>\n",
       "    </tr>\n",
       "    <tr>\n",
       "      <th>18</th>\n",
       "      <td>Franklin</td>\n",
       "      <td>2</td>\n",
       "    </tr>\n",
       "    <tr>\n",
       "      <th>19</th>\n",
       "      <td>Ganymede</td>\n",
       "      <td>29</td>\n",
       "    </tr>\n",
       "    <tr>\n",
       "      <th>20</th>\n",
       "      <td>Glacier</td>\n",
       "      <td>6</td>\n",
       "    </tr>\n",
       "    <tr>\n",
       "      <th>21</th>\n",
       "      <td>Hampton</td>\n",
       "      <td>5</td>\n",
       "    </tr>\n",
       "    <tr>\n",
       "      <th>22</th>\n",
       "      <td>Hyperion</td>\n",
       "      <td>23</td>\n",
       "    </tr>\n",
       "    <tr>\n",
       "      <th>23</th>\n",
       "      <td>Ike</td>\n",
       "      <td>5</td>\n",
       "    </tr>\n",
       "    <tr>\n",
       "      <th>24</th>\n",
       "      <td>Joshua</td>\n",
       "      <td>5</td>\n",
       "    </tr>\n",
       "    <tr>\n",
       "      <th>25</th>\n",
       "      <td>Jupiter</td>\n",
       "      <td>33</td>\n",
       "    </tr>\n",
       "    <tr>\n",
       "      <th>26</th>\n",
       "      <td>Kalypso</td>\n",
       "      <td>23</td>\n",
       "    </tr>\n",
       "    <tr>\n",
       "      <th>27</th>\n",
       "      <td>Kings</td>\n",
       "      <td>10</td>\n",
       "    </tr>\n",
       "    <tr>\n",
       "      <th>28</th>\n",
       "      <td>Lassen</td>\n",
       "      <td>13</td>\n",
       "    </tr>\n",
       "    <tr>\n",
       "      <th>29</th>\n",
       "      <td>Luna</td>\n",
       "      <td>20</td>\n",
       "    </tr>\n",
       "    <tr>\n",
       "      <th>30</th>\n",
       "      <td>Mammoth</td>\n",
       "      <td>5</td>\n",
       "    </tr>\n",
       "    <tr>\n",
       "      <th>31</th>\n",
       "      <td>Marco</td>\n",
       "      <td>31</td>\n",
       "    </tr>\n",
       "    <tr>\n",
       "      <th>32</th>\n",
       "      <td>Neptune</td>\n",
       "      <td>37</td>\n",
       "    </tr>\n",
       "    <tr>\n",
       "      <th>33</th>\n",
       "      <td>Niagara</td>\n",
       "      <td>8</td>\n",
       "    </tr>\n",
       "    <tr>\n",
       "      <th>34</th>\n",
       "      <td>Oberon</td>\n",
       "      <td>26</td>\n",
       "    </tr>\n",
       "    <tr>\n",
       "      <th>35</th>\n",
       "      <td>Olympic</td>\n",
       "      <td>14</td>\n",
       "    </tr>\n",
       "    <tr>\n",
       "      <th>36</th>\n",
       "      <td>Pinnacles</td>\n",
       "      <td>14</td>\n",
       "    </tr>\n",
       "    <tr>\n",
       "      <th>37</th>\n",
       "      <td>Quincy</td>\n",
       "      <td>17</td>\n",
       "    </tr>\n",
       "    <tr>\n",
       "      <th>38</th>\n",
       "      <td>Sequoia</td>\n",
       "      <td>28</td>\n",
       "    </tr>\n",
       "    <tr>\n",
       "      <th>39</th>\n",
       "      <td>Staff</td>\n",
       "      <td>51</td>\n",
       "    </tr>\n",
       "    <tr>\n",
       "      <th>40</th>\n",
       "      <td>Teddy</td>\n",
       "      <td>35</td>\n",
       "    </tr>\n",
       "    <tr>\n",
       "      <th>41</th>\n",
       "      <td>Ulysses</td>\n",
       "      <td>33</td>\n",
       "    </tr>\n",
       "    <tr>\n",
       "      <th>42</th>\n",
       "      <td>Voyageurs</td>\n",
       "      <td>34</td>\n",
       "    </tr>\n",
       "    <tr>\n",
       "      <th>43</th>\n",
       "      <td>Wrangell</td>\n",
       "      <td>26</td>\n",
       "    </tr>\n",
       "    <tr>\n",
       "      <th>44</th>\n",
       "      <td>Xanadu</td>\n",
       "      <td>20</td>\n",
       "    </tr>\n",
       "    <tr>\n",
       "      <th>45</th>\n",
       "      <td>Yosemite</td>\n",
       "      <td>29</td>\n",
       "    </tr>\n",
       "    <tr>\n",
       "      <th>46</th>\n",
       "      <td>Zion</td>\n",
       "      <td>25</td>\n",
       "    </tr>\n",
       "  </tbody>\n",
       "</table>\n",
       "</div>"
      ],
      "text/plain": [
       "          name  user_count\n",
       "0    Andromeda          28\n",
       "1         Apex          24\n",
       "2       Apollo           1\n",
       "3       Arches          18\n",
       "4     Badlands           3\n",
       "5         Bash          23\n",
       "6        Bayes          23\n",
       "7   Betelgeuse          22\n",
       "8        Ceres          29\n",
       "9        Curie          21\n",
       "10      Darden          29\n",
       "11      Deimos          27\n",
       "12      Denali           1\n",
       "13      Easley          17\n",
       "14      Europa          28\n",
       "15  Everglades           1\n",
       "16    Florence          21\n",
       "17     Fortuna          29\n",
       "18    Franklin           2\n",
       "19    Ganymede          29\n",
       "20     Glacier           6\n",
       "21     Hampton           5\n",
       "22    Hyperion          23\n",
       "23         Ike           5\n",
       "24      Joshua           5\n",
       "25     Jupiter          33\n",
       "26     Kalypso          23\n",
       "27       Kings          10\n",
       "28      Lassen          13\n",
       "29        Luna          20\n",
       "30     Mammoth           5\n",
       "31       Marco          31\n",
       "32     Neptune          37\n",
       "33     Niagara           8\n",
       "34      Oberon          26\n",
       "35     Olympic          14\n",
       "36   Pinnacles          14\n",
       "37      Quincy          17\n",
       "38     Sequoia          28\n",
       "39       Staff          51\n",
       "40       Teddy          35\n",
       "41     Ulysses          33\n",
       "42   Voyageurs          34\n",
       "43    Wrangell          26\n",
       "44      Xanadu          20\n",
       "45    Yosemite          29\n",
       "46        Zion          25"
      ]
     },
     "execution_count": 15,
     "metadata": {},
     "output_type": "execute_result"
    }
   ],
   "source": [
    "df.groupby('name')['user_id'].nunique().reset_index(name='user_count')"
   ]
  },
  {
   "cell_type": "code",
   "execution_count": 16,
   "id": "00505e59-22c6-4b7d-b579-eea59ebbcef2",
   "metadata": {
    "tags": []
   },
   "outputs": [
    {
     "data": {
      "text/html": [
       "<div>\n",
       "<style scoped>\n",
       "    .dataframe tbody tr th:only-of-type {\n",
       "        vertical-align: middle;\n",
       "    }\n",
       "\n",
       "    .dataframe tbody tr th {\n",
       "        vertical-align: top;\n",
       "    }\n",
       "\n",
       "    .dataframe thead th {\n",
       "        text-align: right;\n",
       "    }\n",
       "</style>\n",
       "<table border=\"1\" class=\"dataframe\">\n",
       "  <thead>\n",
       "    <tr style=\"text-align: right;\">\n",
       "      <th></th>\n",
       "      <th>path</th>\n",
       "      <th>count</th>\n",
       "    </tr>\n",
       "  </thead>\n",
       "  <tbody>\n",
       "    <tr>\n",
       "      <th>0</th>\n",
       "      <td>/</td>\n",
       "      <td>626</td>\n",
       "    </tr>\n",
       "    <tr>\n",
       "      <th>213</th>\n",
       "      <td>javascript-i</td>\n",
       "      <td>294</td>\n",
       "    </tr>\n",
       "  </tbody>\n",
       "</table>\n",
       "</div>"
      ],
      "text/plain": [
       "             path  count\n",
       "0               /    626\n",
       "213  javascript-i    294"
      ]
     },
     "execution_count": 16,
     "metadata": {},
     "output_type": "execute_result"
    }
   ],
   "source": [
    "cohort_1_paths = df[df['cohort_id'] == 1]\n",
    "path_counts_cohort_1 = cohort_1_paths.groupby('path').size().reset_index(name='count')\n",
    "path_counts_cohort_1.sort_values('count', ascending=False).head(2)"
   ]
  },
  {
   "cell_type": "markdown",
   "id": "862480aa-89b5-4996-aa1d-13a58a74546c",
   "metadata": {},
   "source": [
    "### Question 1:\n",
    "Which lesson appears to attract the most traffic consistently across cohorts (per program)?\n",
    "- Web development\n",
    "- Data Science"
   ]
  },
  {
   "cell_type": "markdown",
   "id": "7393da25-23d9-4a89-9120-9bf83368ef50",
   "metadata": {
    "tags": []
   },
   "source": [
    "### Web Development: "
   ]
  },
  {
   "cell_type": "code",
   "execution_count": 17,
   "id": "9ba93540-9d53-471b-86b9-63db9385e8cc",
   "metadata": {
    "tags": []
   },
   "outputs": [],
   "source": [
    "wd = df[df.program_id != 3]"
   ]
  },
  {
   "cell_type": "code",
   "execution_count": 18,
   "id": "f40beabf-b4aa-4062-924c-8e9405a0c3f6",
   "metadata": {},
   "outputs": [
    {
     "data": {
      "text/html": [
       "<div>\n",
       "<style scoped>\n",
       "    .dataframe tbody tr th:only-of-type {\n",
       "        vertical-align: middle;\n",
       "    }\n",
       "\n",
       "    .dataframe tbody tr th {\n",
       "        vertical-align: top;\n",
       "    }\n",
       "\n",
       "    .dataframe thead th {\n",
       "        text-align: right;\n",
       "    }\n",
       "</style>\n",
       "<table border=\"1\" class=\"dataframe\">\n",
       "  <thead>\n",
       "    <tr style=\"text-align: right;\">\n",
       "      <th></th>\n",
       "      <th>path</th>\n",
       "      <th>count</th>\n",
       "    </tr>\n",
       "  </thead>\n",
       "  <tbody>\n",
       "    <tr>\n",
       "      <th>4</th>\n",
       "      <td>/</td>\n",
       "      <td>37496</td>\n",
       "    </tr>\n",
       "    <tr>\n",
       "      <th>1599</th>\n",
       "      <td>javascript-i</td>\n",
       "      <td>18193</td>\n",
       "    </tr>\n",
       "    <tr>\n",
       "      <th>2024</th>\n",
       "      <td>toc</td>\n",
       "      <td>17580</td>\n",
       "    </tr>\n",
       "    <tr>\n",
       "      <th>1861</th>\n",
       "      <td>search/search_index.json</td>\n",
       "      <td>15331</td>\n",
       "    </tr>\n",
       "    <tr>\n",
       "      <th>1572</th>\n",
       "      <td>java-iii</td>\n",
       "      <td>13162</td>\n",
       "    </tr>\n",
       "  </tbody>\n",
       "</table>\n",
       "</div>"
      ],
      "text/plain": [
       "                          path  count\n",
       "4                            /  37496\n",
       "1599              javascript-i  18193\n",
       "2024                       toc  17580\n",
       "1861  search/search_index.json  15331\n",
       "1572                  java-iii  13162"
      ]
     },
     "execution_count": 18,
     "metadata": {},
     "output_type": "execute_result"
    }
   ],
   "source": [
    "wd.groupby(['path']).size().reset_index(name='count').sort_values(ascending = False, by = 'count').head()"
   ]
  },
  {
   "cell_type": "code",
   "execution_count": 19,
   "id": "50abfb2d-e485-4b18-b659-f15f90593f2e",
   "metadata": {
    "tags": []
   },
   "outputs": [],
   "source": [
    "ds = df[df.program_id == 3]"
   ]
  },
  {
   "cell_type": "code",
   "execution_count": 20,
   "id": "2f6954cf-191c-49d2-a359-1f6fe763b072",
   "metadata": {
    "tags": []
   },
   "outputs": [
    {
     "data": {
      "text/html": [
       "<div>\n",
       "<style scoped>\n",
       "    .dataframe tbody tr th:only-of-type {\n",
       "        vertical-align: middle;\n",
       "    }\n",
       "\n",
       "    .dataframe tbody tr th {\n",
       "        vertical-align: top;\n",
       "    }\n",
       "\n",
       "    .dataframe thead th {\n",
       "        text-align: right;\n",
       "    }\n",
       "</style>\n",
       "<table border=\"1\" class=\"dataframe\">\n",
       "  <thead>\n",
       "    <tr style=\"text-align: right;\">\n",
       "      <th></th>\n",
       "      <th>path</th>\n",
       "      <th>count</th>\n",
       "    </tr>\n",
       "  </thead>\n",
       "  <tbody>\n",
       "    <tr>\n",
       "      <th>3</th>\n",
       "      <td>/</td>\n",
       "      <td>8358</td>\n",
       "    </tr>\n",
       "    <tr>\n",
       "      <th>592</th>\n",
       "      <td>search/search_index.json</td>\n",
       "      <td>2203</td>\n",
       "    </tr>\n",
       "    <tr>\n",
       "      <th>397</th>\n",
       "      <td>classification/overview</td>\n",
       "      <td>1785</td>\n",
       "    </tr>\n",
       "    <tr>\n",
       "      <th>19</th>\n",
       "      <td>1-fundamentals/modern-data-scientist.jpg</td>\n",
       "      <td>1655</td>\n",
       "    </tr>\n",
       "    <tr>\n",
       "      <th>17</th>\n",
       "      <td>1-fundamentals/AI-ML-DL-timeline.jpg</td>\n",
       "      <td>1651</td>\n",
       "    </tr>\n",
       "  </tbody>\n",
       "</table>\n",
       "</div>"
      ],
      "text/plain": [
       "                                         path  count\n",
       "3                                           /   8358\n",
       "592                  search/search_index.json   2203\n",
       "397                   classification/overview   1785\n",
       "19   1-fundamentals/modern-data-scientist.jpg   1655\n",
       "17       1-fundamentals/AI-ML-DL-timeline.jpg   1651"
      ]
     },
     "execution_count": 20,
     "metadata": {},
     "output_type": "execute_result"
    }
   ],
   "source": [
    "ds.groupby(['path']).size().reset_index(name='count').sort_values(ascending = False, by = 'count').head()"
   ]
  },
  {
   "cell_type": "markdown",
   "id": "6b9890a8-e3aa-43a5-a836-8226177ec678",
   "metadata": {
    "tags": []
   },
   "source": [
    "# Question 2:  \n",
    "Is there a cohort that referred to a lesson significantly more than other cohorts seemed to gloss over?"
   ]
  },
  {
   "cell_type": "markdown",
   "id": "4c0da397-633a-4bad-95ab-de41c1140d93",
   "metadata": {},
   "source": [
    "### Web Development"
   ]
  },
  {
   "cell_type": "code",
   "execution_count": 21,
   "id": "554293f9-0a8d-4a24-920e-096d6823b59d",
   "metadata": {
    "tags": []
   },
   "outputs": [
    {
     "data": {
      "text/html": [
       "<div>\n",
       "<style scoped>\n",
       "    .dataframe tbody tr th:only-of-type {\n",
       "        vertical-align: middle;\n",
       "    }\n",
       "\n",
       "    .dataframe tbody tr th {\n",
       "        vertical-align: top;\n",
       "    }\n",
       "\n",
       "    .dataframe thead th {\n",
       "        text-align: right;\n",
       "    }\n",
       "</style>\n",
       "<table border=\"1\" class=\"dataframe\">\n",
       "  <thead>\n",
       "    <tr style=\"text-align: right;\">\n",
       "      <th></th>\n",
       "      <th>name</th>\n",
       "      <th>path</th>\n",
       "      <th>count</th>\n",
       "    </tr>\n",
       "  </thead>\n",
       "  <tbody>\n",
       "    <tr>\n",
       "      <th>0</th>\n",
       "      <td>Jupiter</td>\n",
       "      <td>toc</td>\n",
       "      <td>1866</td>\n",
       "    </tr>\n",
       "    <tr>\n",
       "      <th>1</th>\n",
       "      <td>Staff</td>\n",
       "      <td>javascript-i</td>\n",
       "      <td>1817</td>\n",
       "    </tr>\n",
       "    <tr>\n",
       "      <th>2</th>\n",
       "      <td>Apex</td>\n",
       "      <td>search/search_index.json</td>\n",
       "      <td>1497</td>\n",
       "    </tr>\n",
       "    <tr>\n",
       "      <th>3</th>\n",
       "      <td>Zion</td>\n",
       "      <td>toc</td>\n",
       "      <td>1465</td>\n",
       "    </tr>\n",
       "    <tr>\n",
       "      <th>4</th>\n",
       "      <td>Ceres</td>\n",
       "      <td>search/search_index.json</td>\n",
       "      <td>1380</td>\n",
       "    </tr>\n",
       "    <tr>\n",
       "      <th>5</th>\n",
       "      <td>Fortuna</td>\n",
       "      <td>toc</td>\n",
       "      <td>1293</td>\n",
       "    </tr>\n",
       "    <tr>\n",
       "      <th>6</th>\n",
       "      <td>Ganymede</td>\n",
       "      <td>search/search_index.json</td>\n",
       "      <td>1095</td>\n",
       "    </tr>\n",
       "    <tr>\n",
       "      <th>7</th>\n",
       "      <td>Hyperion</td>\n",
       "      <td>toc</td>\n",
       "      <td>1022</td>\n",
       "    </tr>\n",
       "    <tr>\n",
       "      <th>8</th>\n",
       "      <td>Wrangell</td>\n",
       "      <td>toc</td>\n",
       "      <td>991</td>\n",
       "    </tr>\n",
       "    <tr>\n",
       "      <th>9</th>\n",
       "      <td>Europa</td>\n",
       "      <td>toc</td>\n",
       "      <td>964</td>\n",
       "    </tr>\n",
       "    <tr>\n",
       "      <th>10</th>\n",
       "      <td>Marco</td>\n",
       "      <td>toc</td>\n",
       "      <td>910</td>\n",
       "    </tr>\n",
       "    <tr>\n",
       "      <th>11</th>\n",
       "      <td>Deimos</td>\n",
       "      <td>javascript-i</td>\n",
       "      <td>896</td>\n",
       "    </tr>\n",
       "    <tr>\n",
       "      <th>12</th>\n",
       "      <td>Voyageurs</td>\n",
       "      <td>javascript-i</td>\n",
       "      <td>884</td>\n",
       "    </tr>\n",
       "    <tr>\n",
       "      <th>13</th>\n",
       "      <td>Lassen</td>\n",
       "      <td>index.html</td>\n",
       "      <td>877</td>\n",
       "    </tr>\n",
       "    <tr>\n",
       "      <th>14</th>\n",
       "      <td>Betelgeuse</td>\n",
       "      <td>search/search_index.json</td>\n",
       "      <td>761</td>\n",
       "    </tr>\n",
       "    <tr>\n",
       "      <th>15</th>\n",
       "      <td>Teddy</td>\n",
       "      <td>spring</td>\n",
       "      <td>744</td>\n",
       "    </tr>\n",
       "    <tr>\n",
       "      <th>16</th>\n",
       "      <td>Xanadu</td>\n",
       "      <td>javascript-i</td>\n",
       "      <td>722</td>\n",
       "    </tr>\n",
       "    <tr>\n",
       "      <th>17</th>\n",
       "      <td>Ulysses</td>\n",
       "      <td>mkdocs/search_index.json</td>\n",
       "      <td>721</td>\n",
       "    </tr>\n",
       "    <tr>\n",
       "      <th>18</th>\n",
       "      <td>Yosemite</td>\n",
       "      <td>toc</td>\n",
       "      <td>697</td>\n",
       "    </tr>\n",
       "    <tr>\n",
       "      <th>19</th>\n",
       "      <td>Luna</td>\n",
       "      <td>javascript-i</td>\n",
       "      <td>676</td>\n",
       "    </tr>\n",
       "    <tr>\n",
       "      <th>20</th>\n",
       "      <td>Bash</td>\n",
       "      <td>search/search_index.json</td>\n",
       "      <td>660</td>\n",
       "    </tr>\n",
       "    <tr>\n",
       "      <th>21</th>\n",
       "      <td>Andromeda</td>\n",
       "      <td>toc</td>\n",
       "      <td>638</td>\n",
       "    </tr>\n",
       "    <tr>\n",
       "      <th>22</th>\n",
       "      <td>Kalypso</td>\n",
       "      <td>javascript-i</td>\n",
       "      <td>631</td>\n",
       "    </tr>\n",
       "    <tr>\n",
       "      <th>23</th>\n",
       "      <td>Neptune</td>\n",
       "      <td>toc</td>\n",
       "      <td>451</td>\n",
       "    </tr>\n",
       "    <tr>\n",
       "      <th>24</th>\n",
       "      <td>Sequoia</td>\n",
       "      <td>spring</td>\n",
       "      <td>364</td>\n",
       "    </tr>\n",
       "    <tr>\n",
       "      <th>25</th>\n",
       "      <td>Arches</td>\n",
       "      <td>javascript-i</td>\n",
       "      <td>294</td>\n",
       "    </tr>\n",
       "    <tr>\n",
       "      <th>26</th>\n",
       "      <td>Oberon</td>\n",
       "      <td>javascript-i/introduction/operators</td>\n",
       "      <td>179</td>\n",
       "    </tr>\n",
       "    <tr>\n",
       "      <th>27</th>\n",
       "      <td>Olympic</td>\n",
       "      <td>javascript-i</td>\n",
       "      <td>128</td>\n",
       "    </tr>\n",
       "    <tr>\n",
       "      <th>28</th>\n",
       "      <td>Kings</td>\n",
       "      <td>index.html</td>\n",
       "      <td>84</td>\n",
       "    </tr>\n",
       "    <tr>\n",
       "      <th>29</th>\n",
       "      <td>Pinnacles</td>\n",
       "      <td>javascript-i</td>\n",
       "      <td>69</td>\n",
       "    </tr>\n",
       "    <tr>\n",
       "      <th>30</th>\n",
       "      <td>Niagara</td>\n",
       "      <td>spring</td>\n",
       "      <td>65</td>\n",
       "    </tr>\n",
       "    <tr>\n",
       "      <th>31</th>\n",
       "      <td>Hampton</td>\n",
       "      <td>java-iii</td>\n",
       "      <td>57</td>\n",
       "    </tr>\n",
       "    <tr>\n",
       "      <th>32</th>\n",
       "      <td>Quincy</td>\n",
       "      <td>content/laravel/intro</td>\n",
       "      <td>38</td>\n",
       "    </tr>\n",
       "    <tr>\n",
       "      <th>33</th>\n",
       "      <td>Glacier</td>\n",
       "      <td>content/html-css</td>\n",
       "      <td>29</td>\n",
       "    </tr>\n",
       "    <tr>\n",
       "      <th>34</th>\n",
       "      <td>Joshua</td>\n",
       "      <td>content/html-css</td>\n",
       "      <td>19</td>\n",
       "    </tr>\n",
       "    <tr>\n",
       "      <th>35</th>\n",
       "      <td>Mammoth</td>\n",
       "      <td>java-i</td>\n",
       "      <td>19</td>\n",
       "    </tr>\n",
       "    <tr>\n",
       "      <th>36</th>\n",
       "      <td>Ike</td>\n",
       "      <td>html-css</td>\n",
       "      <td>12</td>\n",
       "    </tr>\n",
       "    <tr>\n",
       "      <th>37</th>\n",
       "      <td>Franklin</td>\n",
       "      <td>javascript-ii/es6</td>\n",
       "      <td>10</td>\n",
       "    </tr>\n",
       "    <tr>\n",
       "      <th>38</th>\n",
       "      <td>Badlands</td>\n",
       "      <td>content/php_ii/command-line</td>\n",
       "      <td>6</td>\n",
       "    </tr>\n",
       "    <tr>\n",
       "      <th>39</th>\n",
       "      <td>Apollo</td>\n",
       "      <td>content/html-css</td>\n",
       "      <td>2</td>\n",
       "    </tr>\n",
       "    <tr>\n",
       "      <th>40</th>\n",
       "      <td>Denali</td>\n",
       "      <td>mkdocs/search_index.json</td>\n",
       "      <td>1</td>\n",
       "    </tr>\n",
       "  </tbody>\n",
       "</table>\n",
       "</div>"
      ],
      "text/plain": [
       "          name                                 path  count\n",
       "0      Jupiter                                  toc   1866\n",
       "1        Staff                         javascript-i   1817\n",
       "2         Apex             search/search_index.json   1497\n",
       "3         Zion                                  toc   1465\n",
       "4        Ceres             search/search_index.json   1380\n",
       "5      Fortuna                                  toc   1293\n",
       "6     Ganymede             search/search_index.json   1095\n",
       "7     Hyperion                                  toc   1022\n",
       "8     Wrangell                                  toc    991\n",
       "9       Europa                                  toc    964\n",
       "10       Marco                                  toc    910\n",
       "11      Deimos                         javascript-i    896\n",
       "12   Voyageurs                         javascript-i    884\n",
       "13      Lassen                           index.html    877\n",
       "14  Betelgeuse             search/search_index.json    761\n",
       "15       Teddy                               spring    744\n",
       "16      Xanadu                         javascript-i    722\n",
       "17     Ulysses             mkdocs/search_index.json    721\n",
       "18    Yosemite                                  toc    697\n",
       "19        Luna                         javascript-i    676\n",
       "20        Bash             search/search_index.json    660\n",
       "21   Andromeda                                  toc    638\n",
       "22     Kalypso                         javascript-i    631\n",
       "23     Neptune                                  toc    451\n",
       "24     Sequoia                               spring    364\n",
       "25      Arches                         javascript-i    294\n",
       "26      Oberon  javascript-i/introduction/operators    179\n",
       "27     Olympic                         javascript-i    128\n",
       "28       Kings                           index.html     84\n",
       "29   Pinnacles                         javascript-i     69\n",
       "30     Niagara                               spring     65\n",
       "31     Hampton                             java-iii     57\n",
       "32      Quincy                content/laravel/intro     38\n",
       "33     Glacier                     content/html-css     29\n",
       "34      Joshua                     content/html-css     19\n",
       "35     Mammoth                               java-i     19\n",
       "36         Ike                             html-css     12\n",
       "37    Franklin                    javascript-ii/es6     10\n",
       "38    Badlands          content/php_ii/command-line      6\n",
       "39      Apollo                     content/html-css      2\n",
       "40      Denali             mkdocs/search_index.json      1"
      ]
     },
     "execution_count": 21,
     "metadata": {},
     "output_type": "execute_result"
    }
   ],
   "source": [
    "wd[wd['path'] != '/'].groupby(['name', 'path']).size().reset_index(name='count').sort_values(['count'], \n",
    "    ascending=[ False]).groupby('name').head(1).reset_index(drop=True)"
   ]
  },
  {
   "cell_type": "code",
   "execution_count": 22,
   "id": "5fb779ad-2e30-4059-aa49-5f6af592c412",
   "metadata": {
    "tags": []
   },
   "outputs": [
    {
     "data": {
      "text/plain": [
       "name        path\n",
       "Jupiter     toc     1866\n",
       "Zion        toc     1465\n",
       "Fortuna     toc     1293\n",
       "Hyperion    toc     1022\n",
       "Wrangell    toc      991\n",
       "Europa      toc      964\n",
       "Staff       toc      911\n",
       "Ceres       toc      911\n",
       "Marco       toc      910\n",
       "Ganymede    toc      822\n",
       "Apex        toc      810\n",
       "Deimos      toc      750\n",
       "Yosemite    toc      697\n",
       "Andromeda   toc      638\n",
       "Betelgeuse  toc      610\n",
       "Kalypso     toc      495\n",
       "Neptune     toc      451\n",
       "Xanadu      toc      443\n",
       "Bash        toc      404\n",
       "Luna        toc      373\n",
       "Voyageurs   toc      272\n",
       "Oberon      toc      101\n",
       "Ulysses     toc       89\n",
       "Teddy       toc       83\n",
       "Arches      toc       66\n",
       "Sequoia     toc       36\n",
       "Olympic     toc       22\n",
       "Glacier     toc       13\n",
       "Kings       toc       13\n",
       "Pinnacles   toc       12\n",
       "Quincy      toc       12\n",
       "Lassen      toc       10\n",
       "Niagara     toc        8\n",
       "Ike         toc        6\n",
       "Hampton     toc        5\n",
       "Joshua      toc        3\n",
       "Badlands    toc        2\n",
       "Mammoth     toc        1\n",
       "Name: path, dtype: int64"
      ]
     },
     "execution_count": 22,
     "metadata": {},
     "output_type": "execute_result"
    }
   ],
   "source": [
    "wd[wd.path == 'toc'].groupby('name').path.value_counts().sort_values(ascending = False)"
   ]
  },
  {
   "cell_type": "markdown",
   "id": "191c7010-b14a-4945-b069-574ca819d66e",
   "metadata": {},
   "source": [
    "### Data Science"
   ]
  },
  {
   "cell_type": "code",
   "execution_count": 23,
   "id": "547309a9-e3e0-4f48-8004-613b185021ba",
   "metadata": {
    "tags": []
   },
   "outputs": [
    {
     "data": {
      "text/html": [
       "<div>\n",
       "<style scoped>\n",
       "    .dataframe tbody tr th:only-of-type {\n",
       "        vertical-align: middle;\n",
       "    }\n",
       "\n",
       "    .dataframe tbody tr th {\n",
       "        vertical-align: top;\n",
       "    }\n",
       "\n",
       "    .dataframe thead th {\n",
       "        text-align: right;\n",
       "    }\n",
       "</style>\n",
       "<table border=\"1\" class=\"dataframe\">\n",
       "  <thead>\n",
       "    <tr style=\"text-align: right;\">\n",
       "      <th></th>\n",
       "      <th>name</th>\n",
       "      <th>path</th>\n",
       "      <th>count</th>\n",
       "    </tr>\n",
       "  </thead>\n",
       "  <tbody>\n",
       "    <tr>\n",
       "      <th>0</th>\n",
       "      <td>Darden</td>\n",
       "      <td>classification/overview</td>\n",
       "      <td>1109</td>\n",
       "    </tr>\n",
       "    <tr>\n",
       "      <th>1</th>\n",
       "      <td>Bayes</td>\n",
       "      <td>1-fundamentals/modern-data-scientist.jpg</td>\n",
       "      <td>650</td>\n",
       "    </tr>\n",
       "    <tr>\n",
       "      <th>2</th>\n",
       "      <td>Florence</td>\n",
       "      <td>fundamentals/modern-data-scientist.jpg</td>\n",
       "      <td>627</td>\n",
       "    </tr>\n",
       "    <tr>\n",
       "      <th>3</th>\n",
       "      <td>Curie</td>\n",
       "      <td>6-regression/1-overview</td>\n",
       "      <td>595</td>\n",
       "    </tr>\n",
       "    <tr>\n",
       "      <th>4</th>\n",
       "      <td>Easley</td>\n",
       "      <td>classification/scale_features_or_not.svg</td>\n",
       "      <td>463</td>\n",
       "    </tr>\n",
       "  </tbody>\n",
       "</table>\n",
       "</div>"
      ],
      "text/plain": [
       "       name                                      path  count\n",
       "0    Darden                   classification/overview   1109\n",
       "1     Bayes  1-fundamentals/modern-data-scientist.jpg    650\n",
       "2  Florence    fundamentals/modern-data-scientist.jpg    627\n",
       "3     Curie                   6-regression/1-overview    595\n",
       "4    Easley  classification/scale_features_or_not.svg    463"
      ]
     },
     "execution_count": 23,
     "metadata": {},
     "output_type": "execute_result"
    }
   ],
   "source": [
    "ds[ds['path'] != '/'].groupby(['name', 'path']).size().reset_index(name='count').sort_values(['count'], \n",
    "    ascending=[ False]).groupby('name').head(1).reset_index(drop=True)"
   ]
  },
  {
   "cell_type": "code",
   "execution_count": 24,
   "id": "d43dd03d-5f4b-4f1c-80d3-6b614aa6f84a",
   "metadata": {
    "tags": []
   },
   "outputs": [
    {
     "data": {
      "text/plain": [
       "name      path                   \n",
       "Bayes     classification/overview      35\n",
       "Curie     classification/overview     136\n",
       "Darden    classification/overview    1109\n",
       "Easley    classification/overview     445\n",
       "Florence  classification/overview      60\n",
       "Name: path, dtype: int64"
      ]
     },
     "execution_count": 24,
     "metadata": {},
     "output_type": "execute_result"
    }
   ],
   "source": [
    "ds[ds.path == 'classification/overview'].groupby('name').path.value_counts()"
   ]
  },
  {
   "cell_type": "markdown",
   "id": "be8c7236-1897-4f5b-aeb1-8b662c3bca14",
   "metadata": {},
   "source": [
    "# Question 3: \n",
    "Are there students who, when active, hardly access the curriculum? If so, what information do you have about these students?"
   ]
  },
  {
   "cell_type": "code",
   "execution_count": 25,
   "id": "e7342e0b-9164-4c28-be41-7c523439ec6a",
   "metadata": {
    "tags": []
   },
   "outputs": [
    {
     "name": "stdout",
     "output_type": "stream",
     "text": [
      "<class 'pandas.core.frame.DataFrame'>\n",
      "Int64Index: 743918 entries, 0 to 847335\n",
      "Data columns (total 10 columns):\n",
      " #   Column           Non-Null Count   Dtype         \n",
      "---  ------           --------------   -----         \n",
      " 0   name             743918 non-null  object        \n",
      " 1   start_date       743918 non-null  datetime64[ns]\n",
      " 2   end_date         743918 non-null  datetime64[ns]\n",
      " 3   program_id       743918 non-null  int64         \n",
      " 4   path             743918 non-null  object        \n",
      " 5   user_id          743918 non-null  float64       \n",
      " 6   cohort_id        743918 non-null  float64       \n",
      " 7   ip               743918 non-null  object        \n",
      " 8   datetime         743918 non-null  datetime64[ns]\n",
      " 9   cohort_duration  743918 non-null  int64         \n",
      "dtypes: datetime64[ns](3), float64(2), int64(2), object(3)\n",
      "memory usage: 62.4+ MB\n"
     ]
    }
   ],
   "source": [
    "wd.info()"
   ]
  },
  {
   "cell_type": "code",
   "execution_count": 26,
   "id": "54206640-f604-4f2b-9674-3cccba206986",
   "metadata": {
    "tags": []
   },
   "outputs": [],
   "source": [
    "# What is defined as active?\n",
    "# current students within thier cohort start dates\n",
    "active_wd = wd.loc[(wd.datetime >= wd.start_date) & (wd.datetime <= wd.end_date)]\n",
    "active_ds = ds.loc[(ds.datetime >= ds.start_date) & (ds.datetime <= ds.end_date)]"
   ]
  },
  {
   "cell_type": "markdown",
   "id": "addc6ece-765e-43f8-8ef3-e1d016a8c255",
   "metadata": {},
   "source": [
    "### Web Development: "
   ]
  },
  {
   "cell_type": "code",
   "execution_count": 33,
   "id": "38e8aa53-40cc-47c0-abc7-06bccca51833",
   "metadata": {
    "tags": []
   },
   "outputs": [],
   "source": [
    "# how many days were students active?\n",
    "wd['days_active'] = (df.datetime - df.start_date).dt.days"
   ]
  },
  {
   "cell_type": "code",
   "execution_count": 34,
   "id": "733ec8be-9754-4ad4-ab29-9eac1ea75909",
   "metadata": {
    "tags": []
   },
   "outputs": [],
   "source": [
    "# how many days were students accessing after the end date\n",
    "wd['post_access'] = (df.datetime - df.end_date).dt.days"
   ]
  },
  {
   "cell_type": "code",
   "execution_count": 89,
   "id": "8eadc5b5-f9c7-4438-893c-712cb8fccb6f",
   "metadata": {
    "tags": []
   },
   "outputs": [
    {
     "data": {
      "text/html": [
       "<div>\n",
       "<style scoped>\n",
       "    .dataframe tbody tr th:only-of-type {\n",
       "        vertical-align: middle;\n",
       "    }\n",
       "\n",
       "    .dataframe tbody tr th {\n",
       "        vertical-align: top;\n",
       "    }\n",
       "\n",
       "    .dataframe thead th {\n",
       "        text-align: right;\n",
       "    }\n",
       "</style>\n",
       "<table border=\"1\" class=\"dataframe\">\n",
       "  <thead>\n",
       "    <tr style=\"text-align: right;\">\n",
       "      <th></th>\n",
       "      <th>user_id</th>\n",
       "      <th>acess</th>\n",
       "    </tr>\n",
       "  </thead>\n",
       "  <tbody>\n",
       "    <tr>\n",
       "      <th>567</th>\n",
       "      <td>918.0</td>\n",
       "      <td>1</td>\n",
       "    </tr>\n",
       "    <tr>\n",
       "      <th>385</th>\n",
       "      <td>619.0</td>\n",
       "      <td>1</td>\n",
       "    </tr>\n",
       "    <tr>\n",
       "      <th>589</th>\n",
       "      <td>940.0</td>\n",
       "      <td>1</td>\n",
       "    </tr>\n",
       "    <tr>\n",
       "      <th>549</th>\n",
       "      <td>879.0</td>\n",
       "      <td>1</td>\n",
       "    </tr>\n",
       "    <tr>\n",
       "      <th>525</th>\n",
       "      <td>832.0</td>\n",
       "      <td>3</td>\n",
       "    </tr>\n",
       "    <tr>\n",
       "      <th>156</th>\n",
       "      <td>278.0</td>\n",
       "      <td>4</td>\n",
       "    </tr>\n",
       "    <tr>\n",
       "      <th>334</th>\n",
       "      <td>539.0</td>\n",
       "      <td>5</td>\n",
       "    </tr>\n",
       "    <tr>\n",
       "      <th>563</th>\n",
       "      <td>895.0</td>\n",
       "      <td>6</td>\n",
       "    </tr>\n",
       "    <tr>\n",
       "      <th>601</th>\n",
       "      <td>956.0</td>\n",
       "      <td>6</td>\n",
       "    </tr>\n",
       "    <tr>\n",
       "      <th>510</th>\n",
       "      <td>812.0</td>\n",
       "      <td>7</td>\n",
       "    </tr>\n",
       "    <tr>\n",
       "      <th>226</th>\n",
       "      <td>388.0</td>\n",
       "      <td>8</td>\n",
       "    </tr>\n",
       "    <tr>\n",
       "      <th>364</th>\n",
       "      <td>572.0</td>\n",
       "      <td>12</td>\n",
       "    </tr>\n",
       "    <tr>\n",
       "      <th>590</th>\n",
       "      <td>941.0</td>\n",
       "      <td>12</td>\n",
       "    </tr>\n",
       "    <tr>\n",
       "      <th>559</th>\n",
       "      <td>889.0</td>\n",
       "      <td>16</td>\n",
       "    </tr>\n",
       "    <tr>\n",
       "      <th>613</th>\n",
       "      <td>968.0</td>\n",
       "      <td>17</td>\n",
       "    </tr>\n",
       "    <tr>\n",
       "      <th>202</th>\n",
       "      <td>340.0</td>\n",
       "      <td>18</td>\n",
       "    </tr>\n",
       "    <tr>\n",
       "      <th>608</th>\n",
       "      <td>963.0</td>\n",
       "      <td>18</td>\n",
       "    </tr>\n",
       "    <tr>\n",
       "      <th>606</th>\n",
       "      <td>961.0</td>\n",
       "      <td>20</td>\n",
       "    </tr>\n",
       "    <tr>\n",
       "      <th>46</th>\n",
       "      <td>64.0</td>\n",
       "      <td>25</td>\n",
       "    </tr>\n",
       "    <tr>\n",
       "      <th>41</th>\n",
       "      <td>49.0</td>\n",
       "      <td>25</td>\n",
       "    </tr>\n",
       "    <tr>\n",
       "      <th>20</th>\n",
       "      <td>24.0</td>\n",
       "      <td>26</td>\n",
       "    </tr>\n",
       "    <tr>\n",
       "      <th>482</th>\n",
       "      <td>772.0</td>\n",
       "      <td>26</td>\n",
       "    </tr>\n",
       "    <tr>\n",
       "      <th>34</th>\n",
       "      <td>41.0</td>\n",
       "      <td>28</td>\n",
       "    </tr>\n",
       "    <tr>\n",
       "      <th>621</th>\n",
       "      <td>976.0</td>\n",
       "      <td>29</td>\n",
       "    </tr>\n",
       "    <tr>\n",
       "      <th>617</th>\n",
       "      <td>972.0</td>\n",
       "      <td>34</td>\n",
       "    </tr>\n",
       "    <tr>\n",
       "      <th>618</th>\n",
       "      <td>973.0</td>\n",
       "      <td>35</td>\n",
       "    </tr>\n",
       "    <tr>\n",
       "      <th>324</th>\n",
       "      <td>529.0</td>\n",
       "      <td>36</td>\n",
       "    </tr>\n",
       "    <tr>\n",
       "      <th>612</th>\n",
       "      <td>967.0</td>\n",
       "      <td>41</td>\n",
       "    </tr>\n",
       "    <tr>\n",
       "      <th>604</th>\n",
       "      <td>959.0</td>\n",
       "      <td>41</td>\n",
       "    </tr>\n",
       "    <tr>\n",
       "      <th>210</th>\n",
       "      <td>371.0</td>\n",
       "      <td>42</td>\n",
       "    </tr>\n",
       "  </tbody>\n",
       "</table>\n",
       "</div>"
      ],
      "text/plain": [
       "     user_id  acess\n",
       "567    918.0      1\n",
       "385    619.0      1\n",
       "589    940.0      1\n",
       "549    879.0      1\n",
       "525    832.0      3\n",
       "156    278.0      4\n",
       "334    539.0      5\n",
       "563    895.0      6\n",
       "601    956.0      6\n",
       "510    812.0      7\n",
       "226    388.0      8\n",
       "364    572.0     12\n",
       "590    941.0     12\n",
       "559    889.0     16\n",
       "613    968.0     17\n",
       "202    340.0     18\n",
       "608    963.0     18\n",
       "606    961.0     20\n",
       "46      64.0     25\n",
       "41      49.0     25\n",
       "20      24.0     26\n",
       "482    772.0     26\n",
       "34      41.0     28\n",
       "621    976.0     29\n",
       "617    972.0     34\n",
       "618    973.0     35\n",
       "324    529.0     36\n",
       "612    967.0     41\n",
       "604    959.0     41\n",
       "210    371.0     42"
      ]
     },
     "execution_count": 89,
     "metadata": {},
     "output_type": "execute_result"
    }
   ],
   "source": [
    "active_wd.groupby(['user_id']).size().reset_index(name = 'acess').sort_values(by = 'acess').head(30)"
   ]
  },
  {
   "cell_type": "code",
   "execution_count": 78,
   "id": "f0b48570-071d-44a6-893b-00dab8794b26",
   "metadata": {
    "tags": []
   },
   "outputs": [
    {
     "data": {
      "text/html": [
       "<div>\n",
       "<style scoped>\n",
       "    .dataframe tbody tr th:only-of-type {\n",
       "        vertical-align: middle;\n",
       "    }\n",
       "\n",
       "    .dataframe tbody tr th {\n",
       "        vertical-align: top;\n",
       "    }\n",
       "\n",
       "    .dataframe thead th {\n",
       "        text-align: right;\n",
       "    }\n",
       "</style>\n",
       "<table border=\"1\" class=\"dataframe\">\n",
       "  <thead>\n",
       "    <tr style=\"text-align: right;\">\n",
       "      <th></th>\n",
       "      <th>user_id</th>\n",
       "      <th>acess</th>\n",
       "    </tr>\n",
       "  </thead>\n",
       "  <tbody>\n",
       "    <tr>\n",
       "      <th>44</th>\n",
       "      <td>679.0</td>\n",
       "      <td>11</td>\n",
       "    </tr>\n",
       "    <tr>\n",
       "      <th>62</th>\n",
       "      <td>697.0</td>\n",
       "      <td>13</td>\n",
       "    </tr>\n",
       "    <tr>\n",
       "      <th>23</th>\n",
       "      <td>487.0</td>\n",
       "      <td>17</td>\n",
       "    </tr>\n",
       "    <tr>\n",
       "      <th>74</th>\n",
       "      <td>839.0</td>\n",
       "      <td>92</td>\n",
       "    </tr>\n",
       "    <tr>\n",
       "      <th>93</th>\n",
       "      <td>902.0</td>\n",
       "      <td>196</td>\n",
       "    </tr>\n",
       "    <tr>\n",
       "      <th>...</th>\n",
       "      <td>...</td>\n",
       "      <td>...</td>\n",
       "    </tr>\n",
       "    <tr>\n",
       "      <th>80</th>\n",
       "      <td>845.0</td>\n",
       "      <td>1891</td>\n",
       "    </tr>\n",
       "    <tr>\n",
       "      <th>12</th>\n",
       "      <td>475.0</td>\n",
       "      <td>2102</td>\n",
       "    </tr>\n",
       "    <tr>\n",
       "      <th>63</th>\n",
       "      <td>698.0</td>\n",
       "      <td>2177</td>\n",
       "    </tr>\n",
       "    <tr>\n",
       "      <th>30</th>\n",
       "      <td>581.0</td>\n",
       "      <td>2316</td>\n",
       "    </tr>\n",
       "    <tr>\n",
       "      <th>50</th>\n",
       "      <td>685.0</td>\n",
       "      <td>3223</td>\n",
       "    </tr>\n",
       "  </tbody>\n",
       "</table>\n",
       "<p>107 rows × 2 columns</p>\n",
       "</div>"
      ],
      "text/plain": [
       "    user_id  acess\n",
       "44    679.0     11\n",
       "62    697.0     13\n",
       "23    487.0     17\n",
       "74    839.0     92\n",
       "93    902.0    196\n",
       "..      ...    ...\n",
       "80    845.0   1891\n",
       "12    475.0   2102\n",
       "63    698.0   2177\n",
       "30    581.0   2316\n",
       "50    685.0   3223\n",
       "\n",
       "[107 rows x 2 columns]"
      ]
     },
     "execution_count": 78,
     "metadata": {},
     "output_type": "execute_result"
    }
   ],
   "source": [
    "active_ds.groupby(['user_id']).size().reset_index(name = 'acess').sort_values(by = 'acess')"
   ]
  },
  {
   "cell_type": "markdown",
   "id": "c165b7de-e1c5-4142-b87f-ad392c4d1133",
   "metadata": {},
   "source": [
    "# Question 4: "
   ]
  },
  {
   "cell_type": "code",
   "execution_count": 64,
   "id": "b8850cc5-48b7-4a22-ab0c-4c2401ddc137",
   "metadata": {
    "tags": []
   },
   "outputs": [],
   "source": [
    "def one_user_df_prep(df, user):\n",
    "    '''\n",
    "    This function returns a dataframe consisting of data for only a single defined user\n",
    "    '''\n",
    "    df = df[df.user_id == user]\n",
    "    df.datetime = pd.to_datetime(df.datetime)\n",
    "    df = df.set_index(df.datetime)\n",
    "    pages_one_user = df['path'].resample('d').count()\n",
    "    return pages_one_user"
   ]
  },
  {
   "cell_type": "code",
   "execution_count": 65,
   "id": "e70933ac-7816-4378-a197-43bd29aa6450",
   "metadata": {
    "tags": []
   },
   "outputs": [],
   "source": [
    "def compute_pct_b(pages_one_user, span, weight, user):\n",
    "    '''\n",
    "    This function adds the %b of a bollinger band range for the page views of a single user's log activity\n",
    "    '''\n",
    "    # Calculate upper and lower bollinger band\n",
    "    midband = pages_one_user.ewm(span=span).mean()\n",
    "    stdev = pages_one_user.ewm(span=span).std()\n",
    "    ub = midband + stdev*weight\n",
    "    lb = midband - stdev*weight\n",
    "    \n",
    "    # Add upper and lower band values to dataframe\n",
    "    bb = pd.concat([ub, lb], axis=1)\n",
    "    \n",
    "    # Combine all data into a single dataframe\n",
    "    my_df = pd.concat([pages_one_user, midband, bb], axis=1)\n",
    "    my_df.columns = ['pages_one_user', 'midband', 'ub', 'lb']\n",
    "    \n",
    "    # Calculate percent b and relevant user id to dataframe\n",
    "    my_df['pct_b'] = (my_df['pages_one_user'] - my_df['lb'])/(my_df['ub'] - my_df['lb'])\n",
    "    my_df['user_id'] = user\n",
    "    return my_df"
   ]
  },
  {
   "cell_type": "code",
   "execution_count": 66,
   "id": "d9fac4ec-e677-4331-b939-33824a29664f",
   "metadata": {
    "tags": []
   },
   "outputs": [],
   "source": [
    "def compute_pct_b(pages_one_user, span, weight, user):\n",
    "    '''\n",
    "    This function adds the %b of a bollinger band range for the page views of a single user's log activity\n",
    "    '''\n",
    "    # Calculate upper and lower bollinger band\n",
    "    midband = pages_one_user.ewm(span=span).mean()\n",
    "    stdev = pages_one_user.ewm(span=span).std()\n",
    "    ub = midband + stdev*weight\n",
    "    lb = midband - stdev*weight\n",
    "    \n",
    "    # Add upper and lower band values to dataframe\n",
    "    bb = pd.concat([ub, lb], axis=1)\n",
    "    \n",
    "    # Combine all data into a single dataframe\n",
    "    my_df = pd.concat([pages_one_user, midband, bb], axis=1)\n",
    "    my_df.columns = ['pages_one_user', 'midband', 'ub', 'lb']\n",
    "    \n",
    "    # Calculate percent b and relevant user id to dataframe\n",
    "    my_df['pct_b'] = (my_df['pages_one_user'] - my_df['lb'])/(my_df['ub'] - my_df['lb'])\n",
    "    my_df['user_id'] = user\n",
    "    return my_df"
   ]
  },
  {
   "cell_type": "code",
   "execution_count": 67,
   "id": "368058f9-27ef-4336-a079-b986d7fba2ab",
   "metadata": {
    "tags": []
   },
   "outputs": [],
   "source": [
    "def find_anomalies(df, user, span, weight, plot=False):\n",
    "    '''\n",
    "    This function returns the records where a user's daily activity exceeded the upper limit of a bollinger band range\n",
    "    '''\n",
    "    \n",
    "    # Reduce dataframe to represent a single user\n",
    "    pages_one_user = one_user_df_prep(df, user)\n",
    "    \n",
    "    # Add bollinger band data to dataframe\n",
    "    my_df = compute_pct_b(pages_one_user, span, weight, user)\n",
    "    \n",
    "    # Plot data if requested (plot=True)\n",
    "    if plot:\n",
    "        plot_bands(my_df, user)\n",
    "    \n",
    "    # Return only records that sit outside of bollinger band upper limit\n",
    "    return my_df[my_df.pct_b>1]"
   ]
  },
  {
   "cell_type": "code",
   "execution_count": 82,
   "id": "8b452e3c-0671-4afa-b6f2-20b382895721",
   "metadata": {
    "tags": []
   },
   "outputs": [],
   "source": [
    "span = 40\n",
    "weight = 2.5\n",
    "\n",
    "anomalies = pd.DataFrame()\n",
    "for u in list(df.user_id.unique()):\n",
    "    user_df = find_anomalies(df, u, span, weight)\n",
    "    anomalies = pd.concat([anomalies, user_df], axis=0)"
   ]
  },
  {
   "cell_type": "code",
   "execution_count": 84,
   "id": "33d3d075-8376-4eed-a7bd-304c91f8b48f",
   "metadata": {
    "tags": []
   },
   "outputs": [
    {
     "data": {
      "text/html": [
       "<div>\n",
       "<style scoped>\n",
       "    .dataframe tbody tr th:only-of-type {\n",
       "        vertical-align: middle;\n",
       "    }\n",
       "\n",
       "    .dataframe tbody tr th {\n",
       "        vertical-align: top;\n",
       "    }\n",
       "\n",
       "    .dataframe thead th {\n",
       "        text-align: right;\n",
       "    }\n",
       "</style>\n",
       "<table border=\"1\" class=\"dataframe\">\n",
       "  <thead>\n",
       "    <tr style=\"text-align: right;\">\n",
       "      <th></th>\n",
       "      <th>pages_one_user</th>\n",
       "      <th>midband</th>\n",
       "      <th>ub</th>\n",
       "      <th>lb</th>\n",
       "      <th>pct_b</th>\n",
       "      <th>user_id</th>\n",
       "    </tr>\n",
       "    <tr>\n",
       "      <th>datetime</th>\n",
       "      <th></th>\n",
       "      <th></th>\n",
       "      <th></th>\n",
       "      <th></th>\n",
       "      <th></th>\n",
       "      <th></th>\n",
       "    </tr>\n",
       "  </thead>\n",
       "  <tbody>\n",
       "    <tr>\n",
       "      <th>2020-07-22</th>\n",
       "      <td>285</td>\n",
       "      <td>37.561587</td>\n",
       "      <td>202.993343</td>\n",
       "      <td>-127.870169</td>\n",
       "      <td>1.247856</td>\n",
       "      <td>11.0</td>\n",
       "    </tr>\n",
       "    <tr>\n",
       "      <th>2019-03-03</th>\n",
       "      <td>272</td>\n",
       "      <td>21.378246</td>\n",
       "      <td>177.969143</td>\n",
       "      <td>-135.212652</td>\n",
       "      <td>1.300244</td>\n",
       "      <td>341.0</td>\n",
       "    </tr>\n",
       "    <tr>\n",
       "      <th>2020-04-16</th>\n",
       "      <td>271</td>\n",
       "      <td>39.181804</td>\n",
       "      <td>208.835925</td>\n",
       "      <td>-130.472316</td>\n",
       "      <td>1.183208</td>\n",
       "      <td>570.0</td>\n",
       "    </tr>\n",
       "    <tr>\n",
       "      <th>2019-07-25</th>\n",
       "      <td>253</td>\n",
       "      <td>30.650944</td>\n",
       "      <td>172.060333</td>\n",
       "      <td>-110.758444</td>\n",
       "      <td>1.286189</td>\n",
       "      <td>422.0</td>\n",
       "    </tr>\n",
       "    <tr>\n",
       "      <th>2020-04-26</th>\n",
       "      <td>234</td>\n",
       "      <td>49.520286</td>\n",
       "      <td>233.069551</td>\n",
       "      <td>-134.028980</td>\n",
       "      <td>1.002535</td>\n",
       "      <td>570.0</td>\n",
       "    </tr>\n",
       "    <tr>\n",
       "      <th>2020-04-05</th>\n",
       "      <td>232</td>\n",
       "      <td>28.849276</td>\n",
       "      <td>158.027048</td>\n",
       "      <td>-100.328497</td>\n",
       "      <td>1.286322</td>\n",
       "      <td>570.0</td>\n",
       "    </tr>\n",
       "    <tr>\n",
       "      <th>2018-12-19</th>\n",
       "      <td>225</td>\n",
       "      <td>18.598393</td>\n",
       "      <td>172.261335</td>\n",
       "      <td>-135.064548</td>\n",
       "      <td>1.171605</td>\n",
       "      <td>313.0</td>\n",
       "    </tr>\n",
       "    <tr>\n",
       "      <th>2018-06-02</th>\n",
       "      <td>198</td>\n",
       "      <td>14.374048</td>\n",
       "      <td>123.141734</td>\n",
       "      <td>-94.393639</td>\n",
       "      <td>1.344120</td>\n",
       "      <td>138.0</td>\n",
       "    </tr>\n",
       "    <tr>\n",
       "      <th>2019-12-19</th>\n",
       "      <td>192</td>\n",
       "      <td>17.001601</td>\n",
       "      <td>124.963362</td>\n",
       "      <td>-90.960161</td>\n",
       "      <td>1.310465</td>\n",
       "      <td>526.0</td>\n",
       "    </tr>\n",
       "    <tr>\n",
       "      <th>2018-12-10</th>\n",
       "      <td>187</td>\n",
       "      <td>20.870255</td>\n",
       "      <td>129.244122</td>\n",
       "      <td>-87.503612</td>\n",
       "      <td>1.266466</td>\n",
       "      <td>310.0</td>\n",
       "    </tr>\n",
       "  </tbody>\n",
       "</table>\n",
       "</div>"
      ],
      "text/plain": [
       "            pages_one_user    midband          ub          lb     pct_b  \\\n",
       "datetime                                                                  \n",
       "2020-07-22             285  37.561587  202.993343 -127.870169  1.247856   \n",
       "2019-03-03             272  21.378246  177.969143 -135.212652  1.300244   \n",
       "2020-04-16             271  39.181804  208.835925 -130.472316  1.183208   \n",
       "2019-07-25             253  30.650944  172.060333 -110.758444  1.286189   \n",
       "2020-04-26             234  49.520286  233.069551 -134.028980  1.002535   \n",
       "2020-04-05             232  28.849276  158.027048 -100.328497  1.286322   \n",
       "2018-12-19             225  18.598393  172.261335 -135.064548  1.171605   \n",
       "2018-06-02             198  14.374048  123.141734  -94.393639  1.344120   \n",
       "2019-12-19             192  17.001601  124.963362  -90.960161  1.310465   \n",
       "2018-12-10             187  20.870255  129.244122  -87.503612  1.266466   \n",
       "\n",
       "            user_id  \n",
       "datetime             \n",
       "2020-07-22     11.0  \n",
       "2019-03-03    341.0  \n",
       "2020-04-16    570.0  \n",
       "2019-07-25    422.0  \n",
       "2020-04-26    570.0  \n",
       "2020-04-05    570.0  \n",
       "2018-12-19    313.0  \n",
       "2018-06-02    138.0  \n",
       "2019-12-19    526.0  \n",
       "2018-12-10    310.0  "
      ]
     },
     "execution_count": 84,
     "metadata": {},
     "output_type": "execute_result"
    }
   ],
   "source": [
    "anomalies.sort_values(by='pages_one_user', ascending=False).head(10)"
   ]
  },
  {
   "cell_type": "code",
   "execution_count": 75,
   "id": "71c90f64-3500-42f9-9adf-64752196d925",
   "metadata": {
    "tags": []
   },
   "outputs": [],
   "source": [
    "df_341 = one_user_df_prep(df, 341)"
   ]
  },
  {
   "cell_type": "code",
   "execution_count": 76,
   "id": "e0b1771c-a2bb-41d0-9301-ccfe434515f4",
   "metadata": {
    "tags": []
   },
   "outputs": [
    {
     "data": {
      "text/plain": [
       "<Axes: xlabel='datetime'>"
      ]
     },
     "execution_count": 76,
     "metadata": {},
     "output_type": "execute_result"
    },
    {
     "data": {
      "image/png": "[encoded data removed]",
      "text/plain": [
       "<Figure size 1600x800 with 1 Axes>"
      ]
     },
     "metadata": {},
     "output_type": "display_data"
    }
   ],
   "source": [
    "df_341.plot(figsize=(16,8))"
   ]
  },
  {
   "cell_type": "code",
   "execution_count": 77,
   "id": "faa72b59-1ce5-4c4b-bb2f-5ceddcadde75",
   "metadata": {
    "tags": []
   },
   "outputs": [
    {
     "data": {
      "text/plain": [
       "80.0     11\n",
       "146.0    11\n",
       "18.0     10\n",
       "291.0     9\n",
       "51.0      8\n",
       "         ..\n",
       "459.0     1\n",
       "384.0     1\n",
       "392.0     1\n",
       "395.0     1\n",
       "778.0     1\n",
       "Name: user_id, Length: 380, dtype: int64"
      ]
     },
     "execution_count": 77,
     "metadata": {},
     "output_type": "execute_result"
    }
   ],
   "source": [
    "anomalies.user_id.value_counts()"
   ]
  },
  {
   "cell_type": "code",
   "execution_count": 86,
   "id": "5421d89f-25c6-4d8b-8632-bde86b42254c",
   "metadata": {
    "tags": []
   },
   "outputs": [
    {
     "data": {
      "text/plain": [
       "<Axes: xlabel='datetime'>"
      ]
     },
     "execution_count": 86,
     "metadata": {},
     "output_type": "execute_result"
    },
    {
     "data": {
      "image/png": "[encoded data removed]",
      "text/plain": [
       "<Figure size 1600x800 with 1 Axes>"
      ]
     },
     "metadata": {},
     "output_type": "display_data"
    }
   ],
   "source": [
    "df_80 = one_user_df_prep(df, 80)\n",
    "df_80.plot(figsize=(16,8))"
   ]
  },
  {
   "cell_type": "code",
   "execution_count": null,
   "id": "1a8cb4f7-40e7-4857-a09a-422d52727f88",
   "metadata": {},
   "outputs": [],
   "source": []
  }
 ],
 "metadata": {
  "kernelspec": {
   "display_name": "Python 3 (ipykernel)",
   "language": "python",
   "name": "python3"
  },
  "language_info": {
   "codemirror_mode": {
    "name": "ipython",
    "version": 3
   },
   "file_extension": ".py",
   "mimetype": "text/x-python",
   "name": "python",
   "nbconvert_exporter": "python",
   "pygments_lexer": "ipython3",
   "version": "3.11.4"
  }
 },
 "nbformat": 4,
 "nbformat_minor": 5
}
