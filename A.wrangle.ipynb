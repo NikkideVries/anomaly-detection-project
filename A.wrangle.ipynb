{
 "cells": [
  {
   "cell_type": "markdown",
   "id": "f88d6dd6-5dfe-42cf-be1b-d70fd8d3da78",
   "metadata": {},
   "source": [
    "# Question to keep in mind: \n",
    "1. Which lesson appears to attract the most traffic consistently across cohorts (per program)?\n",
    "2. Is there a cohort that referred to a lesson significantly more than other cohorts seemed to gloss over?\n",
    "3. Are there students who, when active, hardly access the curriculum? If so, what information do you have about these students?\n",
    "4. Is there any suspicious activity, such as users/machines/etc accessing the curriculum who shouldn’t be? Does it appear that any web-scraping is happening? Are there any suspicious IP addresses?\n",
    "5. At some point in 2019, the ability for students and alumni to access both curriculums (web dev to ds, ds to web dev) should have been shut off. Do you see any evidence of that happening? Did it happen before?\n",
    "6. What topics are grads continuing to reference after graduation and into their jobs (for each program)?\n",
    "7. Which lessons are least accessed?\n",
    "8. Anything else I should be aware of?"
   ]
  },
  {
   "cell_type": "markdown",
   "id": "09b2b952-2eaa-4e94-92c0-994124fac00e",
   "metadata": {},
   "source": [
    "# Acquire the data: \n",
    "- Aquire the logs and cohort data from the carriculum_logs"
   ]
  },
  {
   "cell_type": "code",
   "execution_count": 1,
   "id": "c706f484-f5db-43cc-aa78-557fba6a8c03",
   "metadata": {
    "tags": []
   },
   "outputs": [],
   "source": [
    "# imports: \n",
    "import numpy as np\n",
    "import pandas as pd \n",
    "\n",
    "# environment: \n",
    "import env\n",
    "import os\n",
    "import wrangle as wr\n",
    "\n",
    "#warnigns\n",
    "import warnings\n",
    "warnings.filterwarnings(\"ignore\")"
   ]
  },
  {
   "cell_type": "code",
   "execution_count": 2,
   "id": "d83c3720-645e-4fe0-9833-59e4c3e0cf18",
   "metadata": {},
   "outputs": [],
   "source": [
    "# url:\n",
    "url =  f'mysql+pymysql://{env.username}:{env.password}@{env.host}/curriculum_logs'"
   ]
  },
  {
   "cell_type": "code",
   "execution_count": 3,
   "id": "c1061991-6c97-4af9-94f6-9a6478c3e520",
   "metadata": {
    "tags": []
   },
   "outputs": [],
   "source": [
    "# sql_query: \n",
    "query = '''\n",
    "SELECT name, start_date, end_date, program_id, date, time, path, user_id, cohort_id, ip\n",
    "FROM cohorts\n",
    "LEFT JOIN logs\n",
    "    on cohorts.id = logs.cohort_id'''"
   ]
  },
  {
   "cell_type": "code",
   "execution_count": 4,
   "id": "3c608e69-6fcc-43a4-a997-0d4e8863de6d",
   "metadata": {
    "tags": []
   },
   "outputs": [],
   "source": [
    "# get the dataframe: \n",
    "df = pd.read_sql(query, url)"
   ]
  },
  {
   "cell_type": "code",
   "execution_count": 5,
   "id": "fc58f04f-7712-4796-98b8-95235c234156",
   "metadata": {
    "tags": []
   },
   "outputs": [
    {
     "data": {
      "text/html": [
       "<div>\n",
       "<style scoped>\n",
       "    .dataframe tbody tr th:only-of-type {\n",
       "        vertical-align: middle;\n",
       "    }\n",
       "\n",
       "    .dataframe tbody tr th {\n",
       "        vertical-align: top;\n",
       "    }\n",
       "\n",
       "    .dataframe thead th {\n",
       "        text-align: right;\n",
       "    }\n",
       "</style>\n",
       "<table border=\"1\" class=\"dataframe\">\n",
       "  <thead>\n",
       "    <tr style=\"text-align: right;\">\n",
       "      <th></th>\n",
       "      <th>name</th>\n",
       "      <th>start_date</th>\n",
       "      <th>end_date</th>\n",
       "      <th>program_id</th>\n",
       "      <th>date</th>\n",
       "      <th>time</th>\n",
       "      <th>path</th>\n",
       "      <th>user_id</th>\n",
       "      <th>cohort_id</th>\n",
       "      <th>ip</th>\n",
       "    </tr>\n",
       "  </thead>\n",
       "  <tbody>\n",
       "    <tr>\n",
       "      <th>0</th>\n",
       "      <td>Arches</td>\n",
       "      <td>2014-02-04</td>\n",
       "      <td>2014-04-22</td>\n",
       "      <td>1</td>\n",
       "      <td>2018-01-31</td>\n",
       "      <td>15:52:32</td>\n",
       "      <td>javascript-i/arrays</td>\n",
       "      <td>11.0</td>\n",
       "      <td>1.0</td>\n",
       "      <td>97.105.19.61</td>\n",
       "    </tr>\n",
       "    <tr>\n",
       "      <th>1</th>\n",
       "      <td>Arches</td>\n",
       "      <td>2014-02-04</td>\n",
       "      <td>2014-04-22</td>\n",
       "      <td>1</td>\n",
       "      <td>2018-01-31</td>\n",
       "      <td>15:52:29</td>\n",
       "      <td>javascript-i</td>\n",
       "      <td>11.0</td>\n",
       "      <td>1.0</td>\n",
       "      <td>97.105.19.61</td>\n",
       "    </tr>\n",
       "  </tbody>\n",
       "</table>\n",
       "</div>"
      ],
      "text/plain": [
       "     name  start_date    end_date  program_id        date      time  \\\n",
       "0  Arches  2014-02-04  2014-04-22           1  2018-01-31  15:52:32   \n",
       "1  Arches  2014-02-04  2014-04-22           1  2018-01-31  15:52:29   \n",
       "\n",
       "                  path  user_id  cohort_id            ip  \n",
       "0  javascript-i/arrays     11.0        1.0  97.105.19.61  \n",
       "1         javascript-i     11.0        1.0  97.105.19.61  "
      ]
     },
     "execution_count": 5,
     "metadata": {},
     "output_type": "execute_result"
    }
   ],
   "source": [
    "# look at the data: \n",
    "df.head(2)"
   ]
  },
  {
   "cell_type": "markdown",
   "id": "16221ad2-ec39-4e44-9d3f-e708d9830119",
   "metadata": {},
   "source": [
    "### Function: "
   ]
  },
  {
   "cell_type": "code",
   "execution_count": 6,
   "id": "a554d214-b77d-464a-a4fb-9e8cc43741ed",
   "metadata": {
    "tags": []
   },
   "outputs": [],
   "source": [
    "def get_db_url(db, user=env.username, host=env.host, password=env.password):\n",
    "    '''\n",
    "    This function uses my info from my env file to\n",
    "    create a connection url to access the Codeup db.\n",
    "    '''\n",
    "    return f'mysql+pymysql://{user}:{password}@{host}/{db}'"
   ]
  },
  {
   "cell_type": "code",
   "execution_count": 7,
   "id": "a234943f-dc83-4f0c-9a37-146f14e5eb2c",
   "metadata": {
    "tags": []
   },
   "outputs": [],
   "source": [
    "def acquire_logs(): \n",
    "    '''\n",
    "    This function will request the curriculum logs data from sql and return a pandas df\n",
    "    '''\n",
    "    sql_query = '''\n",
    "SELECT name, start_date, end_date, program_id, date, time, path, user_id, cohort_id, ip\n",
    "FROM cohorts\n",
    "LEFT JOIN logs\n",
    "    on cohorts.id = logs.cohort_id'''\n",
    "    df = pd.read_sql(sql_query, get_db_url('curriculum_logs'))\n",
    "    return df"
   ]
  },
  {
   "cell_type": "code",
   "execution_count": 8,
   "id": "c72f52f4-3a99-436a-acac-fc69ab705403",
   "metadata": {
    "tags": []
   },
   "outputs": [],
   "source": [
    "#check that it works: \n",
    "df = acquire_logs()"
   ]
  },
  {
   "cell_type": "code",
   "execution_count": 9,
   "id": "5693817b-f234-401b-9ea7-64938cb302c0",
   "metadata": {
    "tags": []
   },
   "outputs": [
    {
     "data": {
      "text/html": [
       "<div>\n",
       "<style scoped>\n",
       "    .dataframe tbody tr th:only-of-type {\n",
       "        vertical-align: middle;\n",
       "    }\n",
       "\n",
       "    .dataframe tbody tr th {\n",
       "        vertical-align: top;\n",
       "    }\n",
       "\n",
       "    .dataframe thead th {\n",
       "        text-align: right;\n",
       "    }\n",
       "</style>\n",
       "<table border=\"1\" class=\"dataframe\">\n",
       "  <thead>\n",
       "    <tr style=\"text-align: right;\">\n",
       "      <th></th>\n",
       "      <th>name</th>\n",
       "      <th>start_date</th>\n",
       "      <th>end_date</th>\n",
       "      <th>program_id</th>\n",
       "      <th>date</th>\n",
       "      <th>time</th>\n",
       "      <th>path</th>\n",
       "      <th>user_id</th>\n",
       "      <th>cohort_id</th>\n",
       "      <th>ip</th>\n",
       "    </tr>\n",
       "  </thead>\n",
       "  <tbody>\n",
       "    <tr>\n",
       "      <th>0</th>\n",
       "      <td>Arches</td>\n",
       "      <td>2014-02-04</td>\n",
       "      <td>2014-04-22</td>\n",
       "      <td>1</td>\n",
       "      <td>2018-01-31</td>\n",
       "      <td>15:52:32</td>\n",
       "      <td>javascript-i/arrays</td>\n",
       "      <td>11.0</td>\n",
       "      <td>1.0</td>\n",
       "      <td>97.105.19.61</td>\n",
       "    </tr>\n",
       "    <tr>\n",
       "      <th>1</th>\n",
       "      <td>Arches</td>\n",
       "      <td>2014-02-04</td>\n",
       "      <td>2014-04-22</td>\n",
       "      <td>1</td>\n",
       "      <td>2018-01-31</td>\n",
       "      <td>15:52:29</td>\n",
       "      <td>javascript-i</td>\n",
       "      <td>11.0</td>\n",
       "      <td>1.0</td>\n",
       "      <td>97.105.19.61</td>\n",
       "    </tr>\n",
       "    <tr>\n",
       "      <th>2</th>\n",
       "      <td>Arches</td>\n",
       "      <td>2014-02-04</td>\n",
       "      <td>2014-04-22</td>\n",
       "      <td>1</td>\n",
       "      <td>2018-01-31</td>\n",
       "      <td>14:59:38</td>\n",
       "      <td>javascript-i/arrays</td>\n",
       "      <td>11.0</td>\n",
       "      <td>1.0</td>\n",
       "      <td>97.105.19.61</td>\n",
       "    </tr>\n",
       "    <tr>\n",
       "      <th>3</th>\n",
       "      <td>Arches</td>\n",
       "      <td>2014-02-04</td>\n",
       "      <td>2014-04-22</td>\n",
       "      <td>1</td>\n",
       "      <td>2018-01-31</td>\n",
       "      <td>14:32:22</td>\n",
       "      <td>javascript-i</td>\n",
       "      <td>11.0</td>\n",
       "      <td>1.0</td>\n",
       "      <td>97.105.19.61</td>\n",
       "    </tr>\n",
       "    <tr>\n",
       "      <th>4</th>\n",
       "      <td>Arches</td>\n",
       "      <td>2014-02-04</td>\n",
       "      <td>2014-04-22</td>\n",
       "      <td>1</td>\n",
       "      <td>2018-01-31</td>\n",
       "      <td>14:32:19</td>\n",
       "      <td>javascript-i/arrays</td>\n",
       "      <td>11.0</td>\n",
       "      <td>1.0</td>\n",
       "      <td>97.105.19.61</td>\n",
       "    </tr>\n",
       "  </tbody>\n",
       "</table>\n",
       "</div>"
      ],
      "text/plain": [
       "     name  start_date    end_date  program_id        date      time  \\\n",
       "0  Arches  2014-02-04  2014-04-22           1  2018-01-31  15:52:32   \n",
       "1  Arches  2014-02-04  2014-04-22           1  2018-01-31  15:52:29   \n",
       "2  Arches  2014-02-04  2014-04-22           1  2018-01-31  14:59:38   \n",
       "3  Arches  2014-02-04  2014-04-22           1  2018-01-31  14:32:22   \n",
       "4  Arches  2014-02-04  2014-04-22           1  2018-01-31  14:32:19   \n",
       "\n",
       "                  path  user_id  cohort_id            ip  \n",
       "0  javascript-i/arrays     11.0        1.0  97.105.19.61  \n",
       "1         javascript-i     11.0        1.0  97.105.19.61  \n",
       "2  javascript-i/arrays     11.0        1.0  97.105.19.61  \n",
       "3         javascript-i     11.0        1.0  97.105.19.61  \n",
       "4  javascript-i/arrays     11.0        1.0  97.105.19.61  "
      ]
     },
     "execution_count": 9,
     "metadata": {},
     "output_type": "execute_result"
    }
   ],
   "source": [
    "df.head()"
   ]
  },
  {
   "cell_type": "code",
   "execution_count": 10,
   "id": "b9544614-fc6f-450a-a86f-6b3631066933",
   "metadata": {
    "tags": []
   },
   "outputs": [
    {
     "name": "stdout",
     "output_type": "stream",
     "text": [
      "<class 'pandas.core.frame.DataFrame'>\n",
      "RangeIndex: 847336 entries, 0 to 847335\n",
      "Data columns (total 10 columns):\n",
      " #   Column      Non-Null Count   Dtype  \n",
      "---  ------      --------------   -----  \n",
      " 0   name        847336 non-null  object \n",
      " 1   start_date  847336 non-null  object \n",
      " 2   end_date    847336 non-null  object \n",
      " 3   program_id  847336 non-null  int64  \n",
      " 4   date        847330 non-null  object \n",
      " 5   time        847330 non-null  object \n",
      " 6   path        847329 non-null  object \n",
      " 7   user_id     847330 non-null  float64\n",
      " 8   cohort_id   847330 non-null  float64\n",
      " 9   ip          847330 non-null  object \n",
      "dtypes: float64(2), int64(1), object(7)\n",
      "memory usage: 64.6+ MB\n"
     ]
    }
   ],
   "source": [
    "df.info()"
   ]
  },
  {
   "cell_type": "code",
   "execution_count": 11,
   "id": "c6f88121-5776-4eea-9e97-0f8e414d4815",
   "metadata": {
    "tags": []
   },
   "outputs": [],
   "source": [
    "# read the data into a csv: \n",
    "def get_logs():\n",
    "    '''\n",
    "    This functino will read in curriculum logs and write it into a csv file if a local file does not exist. \n",
    "    Returns a dataframe.\n",
    "    '''\n",
    "    if os.path.isfile('curriculum.csv'):\n",
    "        \n",
    "        # If csv file exists, read in data from csv file.\n",
    "        df = pd.read_csv('curriculum.csv', index_col=0)\n",
    "        \n",
    "    else:\n",
    "        \n",
    "        # Read fresh data from db into a DataFrame.\n",
    "        df = acquire_logs()\n",
    "        \n",
    "        # Write DataFrame to a csv file.\n",
    "        df.to_csv('curriculum.csv')\n",
    "        \n",
    "    return df   "
   ]
  },
  {
   "cell_type": "code",
   "execution_count": 12,
   "id": "fbc95f85-1d2d-4a32-956b-77023242aa45",
   "metadata": {
    "tags": []
   },
   "outputs": [],
   "source": [
    "df = acquire_logs()"
   ]
  },
  {
   "cell_type": "code",
   "execution_count": 13,
   "id": "81b425f8-1dcb-498f-b510-b25af007670a",
   "metadata": {
    "tags": []
   },
   "outputs": [],
   "source": [
    "df = get_logs()"
   ]
  },
  {
   "cell_type": "markdown",
   "id": "f5c1017e-197f-446b-9d9e-af04fcf32288",
   "metadata": {},
   "source": [
    "# Data Preperation: Non time series: "
   ]
  },
  {
   "cell_type": "code",
   "execution_count": 14,
   "id": "3fbe51f3-6454-4e2e-ae47-d1e66f52a9bf",
   "metadata": {},
   "outputs": [
    {
     "name": "stdout",
     "output_type": "stream",
     "text": [
      "<class 'pandas.core.frame.DataFrame'>\n",
      "Int64Index: 847336 entries, 0 to 847335\n",
      "Data columns (total 10 columns):\n",
      " #   Column      Non-Null Count   Dtype  \n",
      "---  ------      --------------   -----  \n",
      " 0   name        847336 non-null  object \n",
      " 1   start_date  847336 non-null  object \n",
      " 2   end_date    847336 non-null  object \n",
      " 3   program_id  847336 non-null  int64  \n",
      " 4   date        847330 non-null  object \n",
      " 5   time        847330 non-null  object \n",
      " 6   path        847329 non-null  object \n",
      " 7   user_id     847330 non-null  float64\n",
      " 8   cohort_id   847330 non-null  float64\n",
      " 9   ip          847330 non-null  object \n",
      "dtypes: float64(2), int64(1), object(7)\n",
      "memory usage: 71.1+ MB\n"
     ]
    }
   ],
   "source": [
    "df.info()"
   ]
  },
  {
   "cell_type": "code",
   "execution_count": 15,
   "id": "b4fb2a7a-0cc9-4d8e-a1c2-57248cf21509",
   "metadata": {},
   "outputs": [
    {
     "data": {
      "text/plain": [
       "path          7\n",
       "date          6\n",
       "time          6\n",
       "user_id       6\n",
       "cohort_id     6\n",
       "ip            6\n",
       "name          0\n",
       "start_date    0\n",
       "end_date      0\n",
       "program_id    0\n",
       "dtype: int64"
      ]
     },
     "execution_count": 15,
     "metadata": {},
     "output_type": "execute_result"
    }
   ],
   "source": [
    "#look at the null values: \n",
    "df.isnull().sum().sort_values(ascending = False)"
   ]
  },
  {
   "cell_type": "code",
   "execution_count": 16,
   "id": "e35e3770-897e-4b7b-a51b-8742b4c60d77",
   "metadata": {
    "tags": []
   },
   "outputs": [],
   "source": [
    "# function to create a datatable of nulls and the percentage that is missing\n",
    "def nulls_by_col(df):\n",
    "    num_missing = df.isnull().sum()\n",
    "    rows = df.shape[0]\n",
    "    pct_missing = (num_missing / rows) \n",
    "    cols_missing = pd.DataFrame({'number_missing_rows': num_missing, 'percent_rows_missing': pct_missing})\n",
    "    return cols_missing"
   ]
  },
  {
   "cell_type": "code",
   "execution_count": 17,
   "id": "793182f0-9948-47c0-8745-5d2eb4843d0d",
   "metadata": {
    "tags": []
   },
   "outputs": [
    {
     "data": {
      "text/html": [
       "<div>\n",
       "<style scoped>\n",
       "    .dataframe tbody tr th:only-of-type {\n",
       "        vertical-align: middle;\n",
       "    }\n",
       "\n",
       "    .dataframe tbody tr th {\n",
       "        vertical-align: top;\n",
       "    }\n",
       "\n",
       "    .dataframe thead th {\n",
       "        text-align: right;\n",
       "    }\n",
       "</style>\n",
       "<table border=\"1\" class=\"dataframe\">\n",
       "  <thead>\n",
       "    <tr style=\"text-align: right;\">\n",
       "      <th></th>\n",
       "      <th>number_missing_rows</th>\n",
       "      <th>percent_rows_missing</th>\n",
       "    </tr>\n",
       "  </thead>\n",
       "  <tbody>\n",
       "    <tr>\n",
       "      <th>path</th>\n",
       "      <td>7</td>\n",
       "      <td>0.000008</td>\n",
       "    </tr>\n",
       "    <tr>\n",
       "      <th>date</th>\n",
       "      <td>6</td>\n",
       "      <td>0.000007</td>\n",
       "    </tr>\n",
       "    <tr>\n",
       "      <th>time</th>\n",
       "      <td>6</td>\n",
       "      <td>0.000007</td>\n",
       "    </tr>\n",
       "    <tr>\n",
       "      <th>user_id</th>\n",
       "      <td>6</td>\n",
       "      <td>0.000007</td>\n",
       "    </tr>\n",
       "    <tr>\n",
       "      <th>cohort_id</th>\n",
       "      <td>6</td>\n",
       "      <td>0.000007</td>\n",
       "    </tr>\n",
       "    <tr>\n",
       "      <th>ip</th>\n",
       "      <td>6</td>\n",
       "      <td>0.000007</td>\n",
       "    </tr>\n",
       "    <tr>\n",
       "      <th>name</th>\n",
       "      <td>0</td>\n",
       "      <td>0.000000</td>\n",
       "    </tr>\n",
       "    <tr>\n",
       "      <th>start_date</th>\n",
       "      <td>0</td>\n",
       "      <td>0.000000</td>\n",
       "    </tr>\n",
       "    <tr>\n",
       "      <th>end_date</th>\n",
       "      <td>0</td>\n",
       "      <td>0.000000</td>\n",
       "    </tr>\n",
       "    <tr>\n",
       "      <th>program_id</th>\n",
       "      <td>0</td>\n",
       "      <td>0.000000</td>\n",
       "    </tr>\n",
       "  </tbody>\n",
       "</table>\n",
       "</div>"
      ],
      "text/plain": [
       "            number_missing_rows  percent_rows_missing\n",
       "path                          7              0.000008\n",
       "date                          6              0.000007\n",
       "time                          6              0.000007\n",
       "user_id                       6              0.000007\n",
       "cohort_id                     6              0.000007\n",
       "ip                            6              0.000007\n",
       "name                          0              0.000000\n",
       "start_date                    0              0.000000\n",
       "end_date                      0              0.000000\n",
       "program_id                    0              0.000000"
      ]
     },
     "execution_count": 17,
     "metadata": {},
     "output_type": "execute_result"
    }
   ],
   "source": [
    "# how big of a percent is this? \n",
    "nulls = nulls_by_col(df)\n",
    "nulls.sort_values(by = 'percent_rows_missing', ascending = False)"
   ]
  },
  {
   "cell_type": "code",
   "execution_count": 18,
   "id": "2a93a324-0aee-4ee7-b93c-8fdbb7cd4682",
   "metadata": {
    "tags": []
   },
   "outputs": [],
   "source": [
    "# the nulls are so little: \n",
    "df = df.dropna()"
   ]
  },
  {
   "cell_type": "code",
   "execution_count": 19,
   "id": "81045bb9-a32d-4428-a16f-ad0720dace7b",
   "metadata": {
    "tags": []
   },
   "outputs": [
    {
     "name": "stdout",
     "output_type": "stream",
     "text": [
      "<class 'pandas.core.frame.DataFrame'>\n",
      "Int64Index: 847329 entries, 0 to 847335\n",
      "Data columns (total 10 columns):\n",
      " #   Column      Non-Null Count   Dtype  \n",
      "---  ------      --------------   -----  \n",
      " 0   name        847329 non-null  object \n",
      " 1   start_date  847329 non-null  object \n",
      " 2   end_date    847329 non-null  object \n",
      " 3   program_id  847329 non-null  int64  \n",
      " 4   date        847329 non-null  object \n",
      " 5   time        847329 non-null  object \n",
      " 6   path        847329 non-null  object \n",
      " 7   user_id     847329 non-null  float64\n",
      " 8   cohort_id   847329 non-null  float64\n",
      " 9   ip          847329 non-null  object \n",
      "dtypes: float64(2), int64(1), object(7)\n",
      "memory usage: 71.1+ MB\n"
     ]
    }
   ],
   "source": [
    "df.info()"
   ]
  },
  {
   "cell_type": "code",
   "execution_count": 20,
   "id": "6c6eedd7-a81e-48ef-9e60-354fd18762b3",
   "metadata": {
    "tags": []
   },
   "outputs": [],
   "source": [
    "# change date + time into datetime\n",
    "df['datetime'] = df['date'] + \" \" + df['time']"
   ]
  },
  {
   "cell_type": "code",
   "execution_count": 21,
   "id": "c56cc78c-1657-4c17-8cab-58be3059b522",
   "metadata": {
    "tags": []
   },
   "outputs": [
    {
     "data": {
      "text/plain": [
       "Index(['name', 'start_date', 'end_date', 'program_id', 'date', 'time', 'path',\n",
       "       'user_id', 'cohort_id', 'ip', 'datetime'],\n",
       "      dtype='object')"
      ]
     },
     "execution_count": 21,
     "metadata": {},
     "output_type": "execute_result"
    }
   ],
   "source": [
    "df.columns"
   ]
  },
  {
   "cell_type": "code",
   "execution_count": 22,
   "id": "fb0512c6-0409-4cac-a7d8-4bde1ef0a722",
   "metadata": {
    "tags": []
   },
   "outputs": [],
   "source": [
    "df = df.drop(columns = ['date','time'])"
   ]
  },
  {
   "cell_type": "code",
   "execution_count": 23,
   "id": "ff08bf56-f088-409e-b7e1-2317628f9c2a",
   "metadata": {
    "tags": []
   },
   "outputs": [
    {
     "data": {
      "text/plain": [
       "Index(['name', 'start_date', 'end_date', 'program_id', 'path', 'user_id',\n",
       "       'cohort_id', 'ip', 'datetime'],\n",
       "      dtype='object')"
      ]
     },
     "execution_count": 23,
     "metadata": {},
     "output_type": "execute_result"
    }
   ],
   "source": [
    "df.columns"
   ]
  },
  {
   "cell_type": "code",
   "execution_count": 24,
   "id": "83add461-fe44-41a7-b93b-f86bd2b04a2f",
   "metadata": {
    "tags": []
   },
   "outputs": [
    {
     "name": "stdout",
     "output_type": "stream",
     "text": [
      "<class 'pandas.core.frame.DataFrame'>\n",
      "Int64Index: 847329 entries, 0 to 847335\n",
      "Data columns (total 9 columns):\n",
      " #   Column      Non-Null Count   Dtype  \n",
      "---  ------      --------------   -----  \n",
      " 0   name        847329 non-null  object \n",
      " 1   start_date  847329 non-null  object \n",
      " 2   end_date    847329 non-null  object \n",
      " 3   program_id  847329 non-null  int64  \n",
      " 4   path        847329 non-null  object \n",
      " 5   user_id     847329 non-null  float64\n",
      " 6   cohort_id   847329 non-null  float64\n",
      " 7   ip          847329 non-null  object \n",
      " 8   datetime    847329 non-null  object \n",
      "dtypes: float64(2), int64(1), object(6)\n",
      "memory usage: 64.6+ MB\n"
     ]
    }
   ],
   "source": [
    "df.info()"
   ]
  },
  {
   "cell_type": "markdown",
   "id": "87ae9423-1d3b-421a-91a6-49df86487bb4",
   "metadata": {},
   "source": [
    "### Function: "
   ]
  },
  {
   "cell_type": "code",
   "execution_count": 25,
   "id": "3cc7a0a7-da1b-4489-b99f-050f1b30b47f",
   "metadata": {
    "tags": []
   },
   "outputs": [],
   "source": [
    "def prep_logs_plain():\n",
    "    '''\n",
    "    This function will prepare the dataframe by: \n",
    "    - Remoing null values\n",
    "    - Droping unnecessary columns\n",
    "    - create a datetime that can be used for an index\n",
    "    '''\n",
    "    df = acquire_logs()\n",
    "    # drop nulls\n",
    "    df = df.dropna()\n",
    "    # create datetime: \n",
    "    df['datetime'] = df['date'] + \" \" + df['time']\n",
    "    # set the date time to a dataframe: \n",
    "    df.datetime = pd.to_datetime(df.datetime)\n",
    "    # drop columns: \n",
    "    df = df.drop(columns = ['date','time'])\n",
    "    \n",
    "    return df"
   ]
  },
  {
   "cell_type": "code",
   "execution_count": 26,
   "id": "35c791f4-03a5-46ca-8b54-743e59921103",
   "metadata": {
    "tags": []
   },
   "outputs": [],
   "source": [
    "df = acquire_logs()"
   ]
  },
  {
   "cell_type": "code",
   "execution_count": 27,
   "id": "59ac1fcf-fa15-4944-acc4-b99c5334ef0f",
   "metadata": {
    "tags": []
   },
   "outputs": [
    {
     "data": {
      "text/html": [
       "<div>\n",
       "<style scoped>\n",
       "    .dataframe tbody tr th:only-of-type {\n",
       "        vertical-align: middle;\n",
       "    }\n",
       "\n",
       "    .dataframe tbody tr th {\n",
       "        vertical-align: top;\n",
       "    }\n",
       "\n",
       "    .dataframe thead th {\n",
       "        text-align: right;\n",
       "    }\n",
       "</style>\n",
       "<table border=\"1\" class=\"dataframe\">\n",
       "  <thead>\n",
       "    <tr style=\"text-align: right;\">\n",
       "      <th></th>\n",
       "      <th>name</th>\n",
       "      <th>start_date</th>\n",
       "      <th>end_date</th>\n",
       "      <th>program_id</th>\n",
       "      <th>date</th>\n",
       "      <th>time</th>\n",
       "      <th>path</th>\n",
       "      <th>user_id</th>\n",
       "      <th>cohort_id</th>\n",
       "      <th>ip</th>\n",
       "    </tr>\n",
       "  </thead>\n",
       "  <tbody>\n",
       "    <tr>\n",
       "      <th>0</th>\n",
       "      <td>Arches</td>\n",
       "      <td>2014-02-04</td>\n",
       "      <td>2014-04-22</td>\n",
       "      <td>1</td>\n",
       "      <td>2018-01-31</td>\n",
       "      <td>15:52:32</td>\n",
       "      <td>javascript-i/arrays</td>\n",
       "      <td>11.0</td>\n",
       "      <td>1.0</td>\n",
       "      <td>97.105.19.61</td>\n",
       "    </tr>\n",
       "    <tr>\n",
       "      <th>1</th>\n",
       "      <td>Arches</td>\n",
       "      <td>2014-02-04</td>\n",
       "      <td>2014-04-22</td>\n",
       "      <td>1</td>\n",
       "      <td>2018-01-31</td>\n",
       "      <td>15:52:29</td>\n",
       "      <td>javascript-i</td>\n",
       "      <td>11.0</td>\n",
       "      <td>1.0</td>\n",
       "      <td>97.105.19.61</td>\n",
       "    </tr>\n",
       "    <tr>\n",
       "      <th>2</th>\n",
       "      <td>Arches</td>\n",
       "      <td>2014-02-04</td>\n",
       "      <td>2014-04-22</td>\n",
       "      <td>1</td>\n",
       "      <td>2018-01-31</td>\n",
       "      <td>14:59:38</td>\n",
       "      <td>javascript-i/arrays</td>\n",
       "      <td>11.0</td>\n",
       "      <td>1.0</td>\n",
       "      <td>97.105.19.61</td>\n",
       "    </tr>\n",
       "    <tr>\n",
       "      <th>3</th>\n",
       "      <td>Arches</td>\n",
       "      <td>2014-02-04</td>\n",
       "      <td>2014-04-22</td>\n",
       "      <td>1</td>\n",
       "      <td>2018-01-31</td>\n",
       "      <td>14:32:22</td>\n",
       "      <td>javascript-i</td>\n",
       "      <td>11.0</td>\n",
       "      <td>1.0</td>\n",
       "      <td>97.105.19.61</td>\n",
       "    </tr>\n",
       "    <tr>\n",
       "      <th>4</th>\n",
       "      <td>Arches</td>\n",
       "      <td>2014-02-04</td>\n",
       "      <td>2014-04-22</td>\n",
       "      <td>1</td>\n",
       "      <td>2018-01-31</td>\n",
       "      <td>14:32:19</td>\n",
       "      <td>javascript-i/arrays</td>\n",
       "      <td>11.0</td>\n",
       "      <td>1.0</td>\n",
       "      <td>97.105.19.61</td>\n",
       "    </tr>\n",
       "  </tbody>\n",
       "</table>\n",
       "</div>"
      ],
      "text/plain": [
       "     name  start_date    end_date  program_id        date      time  \\\n",
       "0  Arches  2014-02-04  2014-04-22           1  2018-01-31  15:52:32   \n",
       "1  Arches  2014-02-04  2014-04-22           1  2018-01-31  15:52:29   \n",
       "2  Arches  2014-02-04  2014-04-22           1  2018-01-31  14:59:38   \n",
       "3  Arches  2014-02-04  2014-04-22           1  2018-01-31  14:32:22   \n",
       "4  Arches  2014-02-04  2014-04-22           1  2018-01-31  14:32:19   \n",
       "\n",
       "                  path  user_id  cohort_id            ip  \n",
       "0  javascript-i/arrays     11.0        1.0  97.105.19.61  \n",
       "1         javascript-i     11.0        1.0  97.105.19.61  \n",
       "2  javascript-i/arrays     11.0        1.0  97.105.19.61  \n",
       "3         javascript-i     11.0        1.0  97.105.19.61  \n",
       "4  javascript-i/arrays     11.0        1.0  97.105.19.61  "
      ]
     },
     "execution_count": 27,
     "metadata": {},
     "output_type": "execute_result"
    }
   ],
   "source": [
    "df.head()"
   ]
  },
  {
   "cell_type": "code",
   "execution_count": 28,
   "id": "611b14ca-4954-4da3-ac31-250082c9ef9e",
   "metadata": {
    "tags": []
   },
   "outputs": [
    {
     "name": "stdout",
     "output_type": "stream",
     "text": [
      "<class 'pandas.core.frame.DataFrame'>\n",
      "RangeIndex: 847336 entries, 0 to 847335\n",
      "Data columns (total 10 columns):\n",
      " #   Column      Non-Null Count   Dtype  \n",
      "---  ------      --------------   -----  \n",
      " 0   name        847336 non-null  object \n",
      " 1   start_date  847336 non-null  object \n",
      " 2   end_date    847336 non-null  object \n",
      " 3   program_id  847336 non-null  int64  \n",
      " 4   date        847330 non-null  object \n",
      " 5   time        847330 non-null  object \n",
      " 6   path        847329 non-null  object \n",
      " 7   user_id     847330 non-null  float64\n",
      " 8   cohort_id   847330 non-null  float64\n",
      " 9   ip          847330 non-null  object \n",
      "dtypes: float64(2), int64(1), object(7)\n",
      "memory usage: 64.6+ MB\n"
     ]
    }
   ],
   "source": [
    "df.info()"
   ]
  },
  {
   "cell_type": "markdown",
   "id": "7a92d292-6337-4de1-9ec4-661a8cba81ec",
   "metadata": {},
   "source": [
    "# Prepare data: Time Series data: \n"
   ]
  },
  {
   "cell_type": "code",
   "execution_count": 29,
   "id": "69373492-45fe-44d5-8f85-5c97d723041c",
   "metadata": {
    "tags": []
   },
   "outputs": [
    {
     "ename": "AttributeError",
     "evalue": "'DataFrame' object has no attribute 'datetime'",
     "output_type": "error",
     "traceback": [
      "\u001b[0;31m---------------------------------------------------------------------------\u001b[0m",
      "\u001b[0;31mAttributeError\u001b[0m                            Traceback (most recent call last)",
      "Cell \u001b[0;32mIn[29], line 2\u001b[0m\n\u001b[1;32m      1\u001b[0m \u001b[38;5;66;03m# set the date time to a dataframe: \u001b[39;00m\n\u001b[0;32m----> 2\u001b[0m df\u001b[38;5;241m.\u001b[39mdatetime \u001b[38;5;241m=\u001b[39m pd\u001b[38;5;241m.\u001b[39mto_datetime(df\u001b[38;5;241m.\u001b[39mdatetime)\n",
      "File \u001b[0;32m/opt/homebrew/anaconda3/lib/python3.11/site-packages/pandas/core/generic.py:5902\u001b[0m, in \u001b[0;36mNDFrame.__getattr__\u001b[0;34m(self, name)\u001b[0m\n\u001b[1;32m   5895\u001b[0m \u001b[38;5;28;01mif\u001b[39;00m (\n\u001b[1;32m   5896\u001b[0m     name \u001b[38;5;129;01mnot\u001b[39;00m \u001b[38;5;129;01min\u001b[39;00m \u001b[38;5;28mself\u001b[39m\u001b[38;5;241m.\u001b[39m_internal_names_set\n\u001b[1;32m   5897\u001b[0m     \u001b[38;5;129;01mand\u001b[39;00m name \u001b[38;5;129;01mnot\u001b[39;00m \u001b[38;5;129;01min\u001b[39;00m \u001b[38;5;28mself\u001b[39m\u001b[38;5;241m.\u001b[39m_metadata\n\u001b[1;32m   5898\u001b[0m     \u001b[38;5;129;01mand\u001b[39;00m name \u001b[38;5;129;01mnot\u001b[39;00m \u001b[38;5;129;01min\u001b[39;00m \u001b[38;5;28mself\u001b[39m\u001b[38;5;241m.\u001b[39m_accessors\n\u001b[1;32m   5899\u001b[0m     \u001b[38;5;129;01mand\u001b[39;00m \u001b[38;5;28mself\u001b[39m\u001b[38;5;241m.\u001b[39m_info_axis\u001b[38;5;241m.\u001b[39m_can_hold_identifiers_and_holds_name(name)\n\u001b[1;32m   5900\u001b[0m ):\n\u001b[1;32m   5901\u001b[0m     \u001b[38;5;28;01mreturn\u001b[39;00m \u001b[38;5;28mself\u001b[39m[name]\n\u001b[0;32m-> 5902\u001b[0m \u001b[38;5;28;01mreturn\u001b[39;00m \u001b[38;5;28mobject\u001b[39m\u001b[38;5;241m.\u001b[39m\u001b[38;5;21m__getattribute__\u001b[39m(\u001b[38;5;28mself\u001b[39m, name)\n",
      "\u001b[0;31mAttributeError\u001b[0m: 'DataFrame' object has no attribute 'datetime'"
     ]
    }
   ],
   "source": [
    "# set the date time to a dataframe: \n",
    "df.datetime = pd.to_datetime(df.datetime)"
   ]
  },
  {
   "cell_type": "code",
   "execution_count": null,
   "id": "c171cf14-3345-4e35-930e-75e646deccaa",
   "metadata": {
    "tags": []
   },
   "outputs": [],
   "source": [
    "# set the index to be the date: \n",
    "df = df.set_index(df.datetime)"
   ]
  },
  {
   "cell_type": "code",
   "execution_count": null,
   "id": "917c063d-fc1e-473c-8a99-45ec751e48ce",
   "metadata": {
    "tags": []
   },
   "outputs": [],
   "source": [
    "# want the weekday: \n",
    "df['weelday'] = df.index.day_name()"
   ]
  },
  {
   "cell_type": "code",
   "execution_count": null,
   "id": "de3c4336-cdf3-4a6e-9bc0-72d5c856512b",
   "metadata": {
    "tags": []
   },
   "outputs": [],
   "source": [
    "# want the month: \n",
    "df['month'] = df.index.month_name()"
   ]
  },
  {
   "cell_type": "markdown",
   "id": "63d9e843-702d-43c8-a9ef-a7557e6c4e13",
   "metadata": {},
   "source": [
    "### Function"
   ]
  },
  {
   "cell_type": "code",
   "execution_count": null,
   "id": "71a4e6fa-cb79-407f-b019-20465469d314",
   "metadata": {
    "tags": []
   },
   "outputs": [],
   "source": [
    "def prep_logs_time():\n",
    "    '''\n",
    "    This function will prepare the dataframe by: \n",
    "    - Remoing null values\n",
    "    - Droping unnecessary columns\n",
    "    - create a datetime that can be used for an index\n",
    "    - make the index the datetime\n",
    "    '''\n",
    "    df = acquire_logs()\n",
    "    # drop nulls\n",
    "    df = df.dropna()\n",
    "    # create datetime: \n",
    "    df['datetime'] = df['date'] + \" \" + df['time']\n",
    "    # set the date time to a dataframe: \n",
    "    df.datetime = pd.to_datetime(df.datetime)\n",
    "    # drop columns: \n",
    "    df = df.drop(columns = ['date','time'])\n",
    "    \n",
    "    # set the index to datetime: \n",
    "    df = df.set_index(df.datetime)\n",
    "    # create the weekday: \n",
    "    df['weelday'] = df.index.day_name()\n",
    "    # want the month: \n",
    "    df['month'] = df.index.month_name()\n",
    "    \n",
    "    return df\n"
   ]
  }
 ],
 "metadata": {
  "kernelspec": {
   "display_name": "Python 3 (ipykernel)",
   "language": "python",
   "name": "python3"
  },
  "language_info": {
   "codemirror_mode": {
    "name": "ipython",
    "version": 3
   },
   "file_extension": ".py",
   "mimetype": "text/x-python",
   "name": "python",
   "nbconvert_exporter": "python",
   "pygments_lexer": "ipython3",
   "version": "3.11.4"
  }
 },
 "nbformat": 4,
 "nbformat_minor": 5
}
